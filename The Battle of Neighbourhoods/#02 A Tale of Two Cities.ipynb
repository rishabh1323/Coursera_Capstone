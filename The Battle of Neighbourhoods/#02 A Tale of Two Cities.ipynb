{
 "cells": [
  {
   "cell_type": "markdown",
   "metadata": {
    "colab_type": "text",
    "id": "6yyLgGK7oIYR"
   },
   "source": [
    "<h1 align=\"center\"> A Tale of Two cities</h1>\n",
    "<h2 align=\"center\">Clustering the Neighbourhoods of London and Paris</h2>"
   ]
  },
  {
   "cell_type": "markdown",
   "metadata": {
    "colab_type": "text",
    "id": "2mGZf__gI-nX"
   },
   "source": [
    "Rishabh Dingliwal \n",
    "<br>\n",
    "<br>\n",
    "January 2021"
   ]
  },
  {
   "cell_type": "markdown",
   "metadata": {
    "colab_type": "text",
    "id": "MeV3b1twUm8I"
   },
   "source": [
    "# Introduction\n",
    "\n",
    "A Tale of Two cities, a novel written by Charles Dickens was set in London and Paris which takes place during the French Revolution. These cities were both happening then and now. A lot has changed over the years and we now take a look at how the cities have grown. \n",
    "\n",
    "London and Paris are quite the popular tourist and vacation destinations for people all around the world. They are diverse and multicultural and offer a wide variety of experiences that is widely sought after. We try to group the neighbourhoods of London and Paris respectively and draw insights to what they look like now.\n",
    "\n",
    "# Business Problem\n",
    "\n",
    "\n",
    "The aim is to help tourists choose their destinations depending on the experiences that the neighbourhoods have to offer and what they would want to have. This also helps people make decisions if they are thinking about migrating to London or Paris or even if they want to relocate neighbourhoods within the city. Our findings will help stakeholders make informed decisions and address any concerns they have including the different kinds of cuisines, provision stores and what the city has to offer. \n",
    "\n",
    "\n",
    "# Data Description\n",
    "\n",
    "We require geolocation data for both London and Paris. Postal codes in each city serve as a starting point. Using Postal codes we use can find out the neighbourhoods, boroughs, venues and their most popular venue categories.\n",
    "\n",
    "\n",
    "## London\n",
    "\n",
    "To derive our solution, We scrape our data from https://en.wikipedia.org/wiki/List_of_areas_of_London\n",
    "\n",
    "This wikipedia page has information about all the neighbourhoods, we limit it London.\n",
    "\n",
    "1. *borough* : Name of Neighbourhood\n",
    "2. *town* : Name of borough\n",
    "3. *post_code* : Postal codes for London.\n",
    "\n",
    "This wikipedia page lacks information about the geographical locations. To solve this problem we use ArcGIS API\n",
    "\n",
    "### ArcGIS API\n",
    "\n",
    "ArcGIS Online enables you to connect people, locations, and data using interactive maps. Work with smart, data-driven styles and intuitive analysis tools that deliver location intelligence. Share your insights with the world or specific groups. \n",
    "\n",
    "More specifically, we use ArcGIS to get the geo locations of the neighbourhoods of London. The following columns are added to our initial dataset which prepares our data. \n",
    "\n",
    "4. *latitude* : Latitude for Neighbourhood\n",
    "5. *longitude* : Longitude for Neighbourhood\n",
    "\n",
    "## Paris\n",
    "\n",
    "To derive our solution, We leverage JSON data available at https://www.data.gouv.fr/fr/datasets/r/e88c6fda-1d09-42a0-a069-606d3259114e \n",
    "\n",
    "The JSON file has data about all the neighbourhoods in France, we limit it to Paris.\n",
    "\n",
    "1. *postal_code* : Postal codes for France\n",
    "2. *nom_comm* : Name of Neighbourhoods in France\n",
    "3. *nom_dept* : Name of the boroughs, equivalent to towns in France\n",
    "4. *geo_point_2d* : Tuple containing the latitude and longitude of the Neighbourhoods.\n",
    "\n",
    "## Foursquare API Data\n",
    "\n",
    "We will need data about different venues in different neighbourhoods of that specific borough. In order to gain that information we will use \"Foursquare\" locational information. Foursquare is a location data provider with information about all manner of venues and events within an area of interest. Such information includes venue names, locations, menus and even photos. As such, the foursquare location platform will be used as the sole data source since all the stated required information can be obtained through the API.\n",
    "\n",
    "After finding the list of neighbourhoods, we then connect to the Foursquare API to gather information about venues inside each and every neighbourhood. For each neighbourhood, we have chosen the radius to be 500 meters.\n",
    "\n",
    "The data retrieved from Foursquare contained information of venues within a specified distance of the longitude and latitude of the postcodes. The information obtained per venue as follows:\n",
    "\n",
    "1. *Neighbourhood* : Name of the Neighbourhood\n",
    "2. *Neighbourhood Latitude* : Latitude of the Neighbourhood\n",
    "3. *Neighbourhood Longitude* : Longitude of the Neighbourhood\n",
    "4. *Venue* : Name of the Venue\n",
    "5. *Venue Latitude* : Latitude of Venue\n",
    "6. *Venue Longitude* : Longitude of Venue\n",
    "7. *Venue Category* : Category of Venue\n",
    "\n",
    "\n",
    "Based on all the information collected for both London and Paris, we have sufficient data to build our model. We cluster the neighbourhoods together based on similar venue categories. We then present our observations and findings. Using this data, our stakeholders can take the necessary decision."
   ]
  },
  {
   "cell_type": "markdown",
   "metadata": {
    "colab_type": "text",
    "id": "grxuaIg4VzqI"
   },
   "source": [
    "# Methodology\n",
    "\n",
    "We will be creating our model with the help of Python so we start off by importing all the required packages."
   ]
  },
  {
   "cell_type": "code",
   "execution_count": 1,
   "metadata": {},
   "outputs": [
    {
     "name": "stdout",
     "output_type": "stream",
     "text": [
      "^C\n"
     ]
    }
   ],
   "source": [
    "!pip install folium"
   ]
  },
  {
   "cell_type": "code",
   "execution_count": 2,
   "metadata": {
    "colab": {},
    "colab_type": "code",
    "executionInfo": {
     "elapsed": 5683,
     "status": "ok",
     "timestamp": 1597724127785,
     "user": {
      "displayName": "Thomas George Thomas",
      "photoUrl": "https://lh3.googleusercontent.com/a-/AOh14GhRjmtno5yCmJOUjYiFNGHi_xP5YZBJ1ZpWGKsZ=s64",
      "userId": "09561174857978505545"
     },
     "user_tz": -330
    },
    "id": "nLfRKuimJA8l"
   },
   "outputs": [
    {
     "ename": "ModuleNotFoundError",
     "evalue": "No module named 'folium'",
     "output_type": "error",
     "traceback": [
      "\u001b[1;31m---------------------------------------------------------------------------\u001b[0m",
      "\u001b[1;31mModuleNotFoundError\u001b[0m                       Traceback (most recent call last)",
      "\u001b[1;32m<ipython-input-2-85e873a23822>\u001b[0m in \u001b[0;36m<module>\u001b[1;34m\u001b[0m\n\u001b[0;32m      4\u001b[0m \u001b[1;32mimport\u001b[0m \u001b[0mmatplotlib\u001b[0m\u001b[1;33m.\u001b[0m\u001b[0mcm\u001b[0m \u001b[1;32mas\u001b[0m \u001b[0mcm\u001b[0m\u001b[1;33m\u001b[0m\u001b[1;33m\u001b[0m\u001b[0m\n\u001b[0;32m      5\u001b[0m \u001b[1;32mimport\u001b[0m \u001b[0mmatplotlib\u001b[0m\u001b[1;33m.\u001b[0m\u001b[0mcolors\u001b[0m \u001b[1;32mas\u001b[0m \u001b[0mcolors\u001b[0m\u001b[1;33m\u001b[0m\u001b[1;33m\u001b[0m\u001b[0m\n\u001b[1;32m----> 6\u001b[1;33m \u001b[1;32mimport\u001b[0m \u001b[0mfolium\u001b[0m\u001b[1;33m\u001b[0m\u001b[1;33m\u001b[0m\u001b[0m\n\u001b[0m\u001b[0;32m      7\u001b[0m \u001b[1;33m\u001b[0m\u001b[0m\n\u001b[0;32m      8\u001b[0m \u001b[1;31m# import k-means for the clustering stage\u001b[0m\u001b[1;33m\u001b[0m\u001b[1;33m\u001b[0m\u001b[1;33m\u001b[0m\u001b[0m\n",
      "\u001b[1;31mModuleNotFoundError\u001b[0m: No module named 'folium'"
     ]
    }
   ],
   "source": [
    "import pandas as pd\n",
    "import requests\n",
    "import numpy as np\n",
    "import matplotlib.cm as cm\n",
    "import matplotlib.colors as colors\n",
    "import folium\n",
    "\n",
    "# import k-means for the clustering stage\n",
    "from sklearn.cluster import KMeans"
   ]
  },
  {
   "cell_type": "markdown",
   "metadata": {
    "colab_type": "text",
    "id": "K-NYfRjl6NC6"
   },
   "source": [
    "The approach taken here is to explore each of the cities individually, plot the map to show the neighbourhoods being considered and then build our model by clustering all of the similar neighbourhoods together and finally plot the new map with the clustered neighbourhoods. We draw insights and then compare and discuss our findings."
   ]
  },
  {
   "cell_type": "markdown",
   "metadata": {
    "colab_type": "text",
    "id": "JBQpddar_7is"
   },
   "source": [
    "# Exploring London"
   ]
  },
  {
   "cell_type": "markdown",
   "metadata": {
    "colab_type": "text",
    "id": "GMUK5JXj-v02"
   },
   "source": [
    "### Neighbourhoods of London\n",
    "\n",
    "We begin to start collecting and refining the data needed for the our business solution to work."
   ]
  },
  {
   "cell_type": "markdown",
   "metadata": {
    "colab_type": "text",
    "id": "Gcykox2lACgw"
   },
   "source": [
    "### Data Collection"
   ]
  },
  {
   "cell_type": "markdown",
   "metadata": {
    "colab_type": "text",
    "id": "BQabiUfuojRh"
   },
   "source": [
    "To get the neighbourhoods in london, we start by scraping the list of areas of london wiki page."
   ]
  },
  {
   "cell_type": "code",
   "execution_count": null,
   "metadata": {
    "colab": {
     "base_uri": "https://localhost:8080/",
     "height": 34
    },
    "colab_type": "code",
    "executionInfo": {
     "elapsed": 5652,
     "status": "ok",
     "timestamp": 1597724127787,
     "user": {
      "displayName": "Thomas George Thomas",
      "photoUrl": "https://lh3.googleusercontent.com/a-/AOh14GhRjmtno5yCmJOUjYiFNGHi_xP5YZBJ1ZpWGKsZ=s64",
      "userId": "09561174857978505545"
     },
     "user_tz": -330
    },
    "id": "kv-k8uzMJzE7",
    "outputId": "a5cae1cf-8387-4c88-fc39-c4b30e50f374"
   },
   "outputs": [],
   "source": [
    "url_london = \"https://en.wikipedia.org/wiki/List_of_areas_of_London\"\n",
    "wiki_london_url = requests.get(url_london)\n",
    "wiki_london_url"
   ]
  },
  {
   "cell_type": "markdown",
   "metadata": {
    "colab_type": "text",
    "id": "zYL7DqPsor6M"
   },
   "source": [
    "Response 200 means that we are able to make the connection"
   ]
  },
  {
   "cell_type": "code",
   "execution_count": null,
   "metadata": {
    "colab": {
     "base_uri": "https://localhost:8080/",
     "height": 612
    },
    "colab_type": "code",
    "executionInfo": {
     "elapsed": 7107,
     "status": "ok",
     "timestamp": 1597724129256,
     "user": {
      "displayName": "Thomas George Thomas",
      "photoUrl": "https://lh3.googleusercontent.com/a-/AOh14GhRjmtno5yCmJOUjYiFNGHi_xP5YZBJ1ZpWGKsZ=s64",
      "userId": "09561174857978505545"
     },
     "user_tz": -330
    },
    "id": "1XTWMxawJ_JX",
    "outputId": "a04670cf-0151-4d18-c710-252b387c53a7"
   },
   "outputs": [],
   "source": [
    "wiki_london_data = pd.read_html(wiki_london_url.text)\n",
    "wiki_london_data"
   ]
  },
  {
   "cell_type": "markdown",
   "metadata": {
    "colab_type": "text",
    "id": "8GEHfe2SowP8"
   },
   "source": [
    "Scraping the webpage gives us all the tables present on the page. We need the 2nd table, so selecting the 2nd table."
   ]
  },
  {
   "cell_type": "code",
   "execution_count": null,
   "metadata": {
    "colab": {
     "base_uri": "https://localhost:8080/",
     "height": 419
    },
    "colab_type": "code",
    "executionInfo": {
     "elapsed": 7095,
     "status": "ok",
     "timestamp": 1597724129257,
     "user": {
      "displayName": "Thomas George Thomas",
      "photoUrl": "https://lh3.googleusercontent.com/a-/AOh14GhRjmtno5yCmJOUjYiFNGHi_xP5YZBJ1ZpWGKsZ=s64",
      "userId": "09561174857978505545"
     },
     "user_tz": -330
    },
    "id": "Kpvqvt8SKNKC",
    "outputId": "042ed43d-6187-4f8c-ba96-1e72a18aecc7"
   },
   "outputs": [],
   "source": [
    "wiki_london_data = wiki_london_data[1]\n",
    "wiki_london_data"
   ]
  },
  {
   "cell_type": "markdown",
   "metadata": {
    "colab_type": "text",
    "id": "gwvW2aT1pc-a"
   },
   "source": [
    "### Data Preprocessing"
   ]
  },
  {
   "cell_type": "markdown",
   "metadata": {
    "colab_type": "text",
    "id": "viTJ-4irzMVC"
   },
   "source": [
    "we remove the spaces in the column titles and then we add _ between words."
   ]
  },
  {
   "cell_type": "code",
   "execution_count": null,
   "metadata": {
    "colab": {
     "base_uri": "https://localhost:8080/",
     "height": 419
    },
    "colab_type": "code",
    "executionInfo": {
     "elapsed": 7083,
     "status": "ok",
     "timestamp": 1597724129258,
     "user": {
      "displayName": "Thomas George Thomas",
      "photoUrl": "https://lh3.googleusercontent.com/a-/AOh14GhRjmtno5yCmJOUjYiFNGHi_xP5YZBJ1ZpWGKsZ=s64",
      "userId": "09561174857978505545"
     },
     "user_tz": -330
    },
    "id": "1t3mLV-MwTMk",
    "outputId": "6b7e3287-5924-4eb5-813d-61a4dafdd372"
   },
   "outputs": [],
   "source": [
    "wiki_london_data.rename(columns=lambda x: x.strip().replace(\" \", \"_\"), inplace=True)\n",
    "wiki_london_data"
   ]
  },
  {
   "cell_type": "markdown",
   "metadata": {
    "colab_type": "text",
    "id": "MFILMLJrzWsB"
   },
   "source": [
    "We see that few columns have no '_' between the words despite applying our function meaning that there are special characters"
   ]
  },
  {
   "cell_type": "markdown",
   "metadata": {
    "colab_type": "text",
    "id": "hvAk3yi2AN9U"
   },
   "source": [
    "### Feature Selection"
   ]
  },
  {
   "cell_type": "markdown",
   "metadata": {
    "colab_type": "text",
    "id": "aDeZfsxBpW_r"
   },
   "source": [
    "We need only the boroughs, Postal codes, Post town for further steps. We can drop the locations, dial codes and OS grid."
   ]
  },
  {
   "cell_type": "code",
   "execution_count": null,
   "metadata": {
    "colab": {},
    "colab_type": "code",
    "executionInfo": {
     "elapsed": 7081,
     "status": "ok",
     "timestamp": 1597724129259,
     "user": {
      "displayName": "Thomas George Thomas",
      "photoUrl": "https://lh3.googleusercontent.com/a-/AOh14GhRjmtno5yCmJOUjYiFNGHi_xP5YZBJ1ZpWGKsZ=s64",
      "userId": "09561174857978505545"
     },
     "user_tz": -330
    },
    "id": "vyT83o79xQK1"
   },
   "outputs": [],
   "source": [
    "df1 = wiki_london_data.drop( [ wiki_london_data.columns[0], wiki_london_data.columns[4], wiki_london_data.columns[5] ], axis=1)"
   ]
  },
  {
   "cell_type": "code",
   "execution_count": null,
   "metadata": {
    "colab": {
     "base_uri": "https://localhost:8080/",
     "height": 204
    },
    "colab_type": "code",
    "executionInfo": {
     "elapsed": 7068,
     "status": "ok",
     "timestamp": 1597724129260,
     "user": {
      "displayName": "Thomas George Thomas",
      "photoUrl": "https://lh3.googleusercontent.com/a-/AOh14GhRjmtno5yCmJOUjYiFNGHi_xP5YZBJ1ZpWGKsZ=s64",
      "userId": "09561174857978505545"
     },
     "user_tz": -330
    },
    "id": "HxSpyKovqgpD",
    "outputId": "c6450886-b8b2-451e-ff6b-7ad05daf8dfb"
   },
   "outputs": [],
   "source": [
    "df1.head()"
   ]
  },
  {
   "cell_type": "markdown",
   "metadata": {
    "colab_type": "text",
    "id": "DaJg-aiSzwbI"
   },
   "source": [
    "let's rename the Postcode district column and the london borough to something simpler"
   ]
  },
  {
   "cell_type": "code",
   "execution_count": null,
   "metadata": {
    "colab": {
     "base_uri": "https://localhost:8080/",
     "height": 419
    },
    "colab_type": "code",
    "executionInfo": {
     "elapsed": 7057,
     "status": "ok",
     "timestamp": 1597724129261,
     "user": {
      "displayName": "Thomas George Thomas",
      "photoUrl": "https://lh3.googleusercontent.com/a-/AOh14GhRjmtno5yCmJOUjYiFNGHi_xP5YZBJ1ZpWGKsZ=s64",
      "userId": "09561174857978505545"
     },
     "user_tz": -330
    },
    "id": "EIJNAOAwz3no",
    "outputId": "bd1b396b-3f56-4020-fe0e-1f5fbee19ebe"
   },
   "outputs": [],
   "source": [
    "df1.columns = ['borough','town','post_code']\n",
    "df1"
   ]
  },
  {
   "cell_type": "markdown",
   "metadata": {
    "colab_type": "text",
    "id": "QbR5k6gU16co"
   },
   "source": [
    "Let's remove the Square brackets [ ] and numbers from the borough column"
   ]
  },
  {
   "cell_type": "code",
   "execution_count": null,
   "metadata": {
    "colab": {
     "base_uri": "https://localhost:8080/",
     "height": 419
    },
    "colab_type": "code",
    "executionInfo": {
     "elapsed": 7044,
     "status": "ok",
     "timestamp": 1597724129261,
     "user": {
      "displayName": "Thomas George Thomas",
      "photoUrl": "https://lh3.googleusercontent.com/a-/AOh14GhRjmtno5yCmJOUjYiFNGHi_xP5YZBJ1ZpWGKsZ=s64",
      "userId": "09561174857978505545"
     },
     "user_tz": -330
    },
    "id": "g2MOhi7q1z1s",
    "outputId": "c05e7ffd-c002-464d-b364-c38b36d801d7"
   },
   "outputs": [],
   "source": [
    "df1['borough'] = df1['borough'].map(lambda x: x.rstrip(']').rstrip('0123456789').rstrip('['))\n",
    "df1"
   ]
  },
  {
   "cell_type": "markdown",
   "metadata": {
    "colab_type": "text",
    "id": "Yv02VTl30n-4"
   },
   "source": [
    "Take the dimension of the dataframe"
   ]
  },
  {
   "cell_type": "code",
   "execution_count": null,
   "metadata": {
    "colab": {
     "base_uri": "https://localhost:8080/",
     "height": 34
    },
    "colab_type": "code",
    "executionInfo": {
     "elapsed": 7033,
     "status": "ok",
     "timestamp": 1597724129262,
     "user": {
      "displayName": "Thomas George Thomas",
      "photoUrl": "https://lh3.googleusercontent.com/a-/AOh14GhRjmtno5yCmJOUjYiFNGHi_xP5YZBJ1ZpWGKsZ=s64",
      "userId": "09561174857978505545"
     },
     "user_tz": -330
    },
    "id": "FVLtPZy_tMDO",
    "outputId": "20d79761-877c-4e18-9cf3-3e623b68748b"
   },
   "outputs": [],
   "source": [
    "df1.shape"
   ]
  },
  {
   "cell_type": "markdown",
   "metadata": {
    "colab_type": "text",
    "id": "49V8JxzC_Soe"
   },
   "source": [
    "We currently have 533 records and 3 columns of our data. It's time to perform Feature Engineering"
   ]
  },
  {
   "cell_type": "markdown",
   "metadata": {
    "colab_type": "text",
    "id": "S7EdFu2ypQVD"
   },
   "source": [
    "### Feature Engineering"
   ]
  },
  {
   "cell_type": "markdown",
   "metadata": {
    "colab_type": "text",
    "id": "j_row8Zr0t8h"
   },
   "source": [
    "We can only focusing on the neighbourhoods of London, so performing the changes"
   ]
  },
  {
   "cell_type": "code",
   "execution_count": null,
   "metadata": {
    "colab": {
     "base_uri": "https://localhost:8080/",
     "height": 419
    },
    "colab_type": "code",
    "executionInfo": {
     "elapsed": 6933,
     "status": "ok",
     "timestamp": 1597724129263,
     "user": {
      "displayName": "Thomas George Thomas",
      "photoUrl": "https://lh3.googleusercontent.com/a-/AOh14GhRjmtno5yCmJOUjYiFNGHi_xP5YZBJ1ZpWGKsZ=s64",
      "userId": "09561174857978505545"
     },
     "user_tz": -330
    },
    "id": "BL23vyLF0tZo",
    "outputId": "0e98f7b9-2bb6-4e0b-cd55-72006de37d67"
   },
   "outputs": [],
   "source": [
    "df1 = df1[df1['town'].str.contains('LONDON')]\n",
    "df1"
   ]
  },
  {
   "cell_type": "code",
   "execution_count": null,
   "metadata": {
    "colab": {
     "base_uri": "https://localhost:8080/",
     "height": 34
    },
    "colab_type": "code",
    "executionInfo": {
     "elapsed": 6920,
     "status": "ok",
     "timestamp": 1597724129264,
     "user": {
      "displayName": "Thomas George Thomas",
      "photoUrl": "https://lh3.googleusercontent.com/a-/AOh14GhRjmtno5yCmJOUjYiFNGHi_xP5YZBJ1ZpWGKsZ=s64",
      "userId": "09561174857978505545"
     },
     "user_tz": -330
    },
    "id": "Sv81oIuH4KhI",
    "outputId": "635bdffc-aad5-472d-9fd9-7026c275e5ca"
   },
   "outputs": [],
   "source": [
    "df1.shape"
   ]
  },
  {
   "cell_type": "markdown",
   "metadata": {
    "colab_type": "text",
    "id": "JWAMR6_K4Or3"
   },
   "source": [
    "We now have only 310 rows. We can proceed with our further steps. Getting some descriptive statistics"
   ]
  },
  {
   "cell_type": "code",
   "execution_count": null,
   "metadata": {
    "colab": {
     "base_uri": "https://localhost:8080/",
     "height": 187
    },
    "colab_type": "code",
    "executionInfo": {
     "elapsed": 6906,
     "status": "ok",
     "timestamp": 1597724129265,
     "user": {
      "displayName": "Thomas George Thomas",
      "photoUrl": "https://lh3.googleusercontent.com/a-/AOh14GhRjmtno5yCmJOUjYiFNGHi_xP5YZBJ1ZpWGKsZ=s64",
      "userId": "09561174857978505545"
     },
     "user_tz": -330
    },
    "id": "1V6X8oEfFz5u",
    "outputId": "a419d726-ab9a-4707-910a-48569d592048"
   },
   "outputs": [],
   "source": [
    "df1.info()"
   ]
  },
  {
   "cell_type": "markdown",
   "metadata": {
    "colab_type": "text",
    "id": "xmMnxDkg_eaH"
   },
   "source": [
    "## Geolocations of the London Neighbourhoods"
   ]
  },
  {
   "cell_type": "markdown",
   "metadata": {
    "colab_type": "text",
    "id": "n-T9k7ZH7C42"
   },
   "source": [
    "### ArcGis API"
   ]
  },
  {
   "cell_type": "markdown",
   "metadata": {
    "colab_type": "text",
    "id": "8zp57iM_o-G-"
   },
   "source": [
    "We need to get the geographical co-ordinates for the neighbourhoods to plot out map. We will use the arcgis package to do so. \n",
    "\n",
    "Arcgis doesn't have a limitation on the number of API calls made so it fits our use case perfectly."
   ]
  },
  {
   "cell_type": "code",
   "execution_count": null,
   "metadata": {
    "colab": {
     "base_uri": "https://localhost:8080/",
     "height": 1000
    },
    "colab_type": "code",
    "executionInfo": {
     "elapsed": 62326,
     "status": "ok",
     "timestamp": 1597724184697,
     "user": {
      "displayName": "Thomas George Thomas",
      "photoUrl": "https://lh3.googleusercontent.com/a-/AOh14GhRjmtno5yCmJOUjYiFNGHi_xP5YZBJ1ZpWGKsZ=s64",
      "userId": "09561174857978505545"
     },
     "user_tz": -330
    },
    "id": "GRTVS6e8FTe7",
    "outputId": "d0118a29-58c0-4176-ed75-d4955f7810f3"
   },
   "outputs": [],
   "source": [
    "pip install arcgis"
   ]
  },
  {
   "cell_type": "code",
   "execution_count": null,
   "metadata": {
    "colab": {},
    "colab_type": "code",
    "executionInfo": {
     "elapsed": 63420,
     "status": "ok",
     "timestamp": 1597724185794,
     "user": {
      "displayName": "Thomas George Thomas",
      "photoUrl": "https://lh3.googleusercontent.com/a-/AOh14GhRjmtno5yCmJOUjYiFNGHi_xP5YZBJ1ZpWGKsZ=s64",
      "userId": "09561174857978505545"
     },
     "user_tz": -330
    },
    "id": "QFWqOKw-Hdt4"
   },
   "outputs": [],
   "source": [
    "from arcgis.geocoding import geocode\n",
    "from arcgis.gis import GIS\n",
    "gis = GIS()"
   ]
  },
  {
   "cell_type": "markdown",
   "metadata": {
    "colab_type": "text",
    "id": "38Ikx-5FxPtZ"
   },
   "source": [
    "Defining London arcgis geocode function to return latitude and longitude"
   ]
  },
  {
   "cell_type": "code",
   "execution_count": null,
   "metadata": {
    "colab": {},
    "colab_type": "code",
    "executionInfo": {
     "elapsed": 63419,
     "status": "ok",
     "timestamp": 1597724185795,
     "user": {
      "displayName": "Thomas George Thomas",
      "photoUrl": "https://lh3.googleusercontent.com/a-/AOh14GhRjmtno5yCmJOUjYiFNGHi_xP5YZBJ1ZpWGKsZ=s64",
      "userId": "09561174857978505545"
     },
     "user_tz": -330
    },
    "id": "fZDxsq1ePBmo"
   },
   "outputs": [],
   "source": [
    "def get_x_y_uk(address1):\n",
    "   lat_coords = 0\n",
    "   lng_coords = 0\n",
    "   g = geocode(address='{}, London, England, GBR'.format(address1))[0]\n",
    "   lng_coords = g['location']['x']\n",
    "   lat_coords = g['location']['y']\n",
    "   return str(lat_coords) +\",\"+ str(lng_coords)"
   ]
  },
  {
   "cell_type": "markdown",
   "metadata": {
    "colab_type": "text",
    "id": "BkNM0HGHxYPg"
   },
   "source": [
    "Checking sample data"
   ]
  },
  {
   "cell_type": "code",
   "execution_count": null,
   "metadata": {
    "colab": {},
    "colab_type": "code",
    "executionInfo": {
     "elapsed": 63766,
     "status": "ok",
     "timestamp": 1597724186145,
     "user": {
      "displayName": "Thomas George Thomas",
      "photoUrl": "https://lh3.googleusercontent.com/a-/AOh14GhRjmtno5yCmJOUjYiFNGHi_xP5YZBJ1ZpWGKsZ=s64",
      "userId": "09561174857978505545"
     },
     "user_tz": -330
    },
    "id": "sHhLu7cinqih"
   },
   "outputs": [],
   "source": [
    "c = get_x_y_uk('SE2')"
   ]
  },
  {
   "cell_type": "code",
   "execution_count": null,
   "metadata": {
    "colab": {
     "base_uri": "https://localhost:8080/",
     "height": 35
    },
    "colab_type": "code",
    "executionInfo": {
     "elapsed": 63754,
     "status": "ok",
     "timestamp": 1597724186146,
     "user": {
      "displayName": "Thomas George Thomas",
      "photoUrl": "https://lh3.googleusercontent.com/a-/AOh14GhRjmtno5yCmJOUjYiFNGHi_xP5YZBJ1ZpWGKsZ=s64",
      "userId": "09561174857978505545"
     },
     "user_tz": -330
    },
    "id": "7Ogchbyrnwju",
    "outputId": "4f426e21-88ae-4b9e-a66c-5f2615939d71"
   },
   "outputs": [],
   "source": [
    "c"
   ]
  },
  {
   "cell_type": "markdown",
   "metadata": {
    "colab_type": "text",
    "id": "FpZrBiKhxa2c"
   },
   "source": [
    "Looks good, We Copy over the postal codes of london to pass it into the geolocator function that we just defined above"
   ]
  },
  {
   "cell_type": "code",
   "execution_count": null,
   "metadata": {
    "colab": {
     "base_uri": "https://localhost:8080/",
     "height": 221
    },
    "colab_type": "code",
    "executionInfo": {
     "elapsed": 63744,
     "status": "ok",
     "timestamp": 1597724186148,
     "user": {
      "displayName": "Thomas George Thomas",
      "photoUrl": "https://lh3.googleusercontent.com/a-/AOh14GhRjmtno5yCmJOUjYiFNGHi_xP5YZBJ1ZpWGKsZ=s64",
      "userId": "09561174857978505545"
     },
     "user_tz": -330
    },
    "id": "r_-hXTxJQQcY",
    "outputId": "1c3fcdb1-ae28-4040-9459-0c5fe25ce9d1"
   },
   "outputs": [],
   "source": [
    "geo_coordinates_uk = df1['post_code']    \n",
    "geo_coordinates_uk"
   ]
  },
  {
   "cell_type": "markdown",
   "metadata": {
    "colab_type": "text",
    "id": "FG6kCaJRxq9T"
   },
   "source": [
    "Passing postal codes of london to get the geographical co-ordinates"
   ]
  },
  {
   "cell_type": "code",
   "execution_count": null,
   "metadata": {
    "colab": {
     "base_uri": "https://localhost:8080/",
     "height": 221
    },
    "colab_type": "code",
    "executionInfo": {
     "elapsed": 79313,
     "status": "ok",
     "timestamp": 1597724201731,
     "user": {
      "displayName": "Thomas George Thomas",
      "photoUrl": "https://lh3.googleusercontent.com/a-/AOh14GhRjmtno5yCmJOUjYiFNGHi_xP5YZBJ1ZpWGKsZ=s64",
      "userId": "09561174857978505545"
     },
     "user_tz": -330
    },
    "id": "E3EthgS-qipG",
    "outputId": "48cefe94-a908-4b6c-d9d5-fffdd46f2bf1"
   },
   "outputs": [],
   "source": [
    "coordinates_latlng_uk = geo_coordinates_uk.apply(lambda x: get_x_y_uk(x))\n",
    "coordinates_latlng_uk"
   ]
  },
  {
   "cell_type": "markdown",
   "metadata": {
    "colab_type": "text",
    "id": "1hNQz4woxxhQ"
   },
   "source": [
    "### Latitude\n",
    "\n",
    "Extracting the latitude from our previously collected coordinates"
   ]
  },
  {
   "cell_type": "code",
   "execution_count": null,
   "metadata": {
    "colab": {
     "base_uri": "https://localhost:8080/",
     "height": 221
    },
    "colab_type": "code",
    "executionInfo": {
     "elapsed": 79303,
     "status": "ok",
     "timestamp": 1597724201733,
     "user": {
      "displayName": "Thomas George Thomas",
      "photoUrl": "https://lh3.googleusercontent.com/a-/AOh14GhRjmtno5yCmJOUjYiFNGHi_xP5YZBJ1ZpWGKsZ=s64",
      "userId": "09561174857978505545"
     },
     "user_tz": -330
    },
    "id": "0l8d15Uhw5kU",
    "outputId": "1a8f244b-c833-4349-ebfb-5a3c143edf58"
   },
   "outputs": [],
   "source": [
    "lat_uk = coordinates_latlng_uk.apply(lambda x: x.split(',')[0])\n",
    "lat_uk"
   ]
  },
  {
   "cell_type": "markdown",
   "metadata": {
    "colab_type": "text",
    "id": "Wk-20_87xzOr"
   },
   "source": [
    "### Longitude\n",
    "\n",
    "Extracting the Longitude from our previously collected coordinates"
   ]
  },
  {
   "cell_type": "code",
   "execution_count": null,
   "metadata": {
    "colab": {
     "base_uri": "https://localhost:8080/",
     "height": 221
    },
    "colab_type": "code",
    "executionInfo": {
     "elapsed": 79289,
     "status": "ok",
     "timestamp": 1597724201734,
     "user": {
      "displayName": "Thomas George Thomas",
      "photoUrl": "https://lh3.googleusercontent.com/a-/AOh14GhRjmtno5yCmJOUjYiFNGHi_xP5YZBJ1ZpWGKsZ=s64",
      "userId": "09561174857978505545"
     },
     "user_tz": -330
    },
    "id": "X-pmDdpJxCY2",
    "outputId": "3152f7ec-8e87-4970-fa0b-ffe7cad665b4"
   },
   "outputs": [],
   "source": [
    "lng_uk = coordinates_latlng_uk.apply(lambda x: x.split(',')[1])\n",
    "lng_uk"
   ]
  },
  {
   "cell_type": "markdown",
   "metadata": {
    "colab_type": "text",
    "id": "lOIVmOI8yDXJ"
   },
   "source": [
    "We now have the geographical co-ordinates of the London Neighbourhoods.\n",
    "\n",
    "We proceed with Merging our source data with the geographical co-ordinates to make our dataset ready for the next stage"
   ]
  },
  {
   "cell_type": "code",
   "execution_count": null,
   "metadata": {
    "colab": {
     "base_uri": "https://localhost:8080/",
     "height": 419
    },
    "colab_type": "code",
    "executionInfo": {
     "elapsed": 79278,
     "status": "ok",
     "timestamp": 1597724201736,
     "user": {
      "displayName": "Thomas George Thomas",
      "photoUrl": "https://lh3.googleusercontent.com/a-/AOh14GhRjmtno5yCmJOUjYiFNGHi_xP5YZBJ1ZpWGKsZ=s64",
      "userId": "09561174857978505545"
     },
     "user_tz": -330
    },
    "id": "ZofYXau1yk_H",
    "outputId": "1bcb947d-abdf-4bf1-9c2d-0d7a7f43ce44"
   },
   "outputs": [],
   "source": [
    "london_merged = pd.concat([df1,lat_uk.astype(float), lng_uk.astype(float)], axis=1)\n",
    "london_merged.columns= ['borough','town','post_code','latitude','longitude']\n",
    "london_merged"
   ]
  },
  {
   "cell_type": "code",
   "execution_count": null,
   "metadata": {
    "colab": {
     "base_uri": "https://localhost:8080/",
     "height": 119
    },
    "colab_type": "code",
    "executionInfo": {
     "elapsed": 79267,
     "status": "ok",
     "timestamp": 1597724201737,
     "user": {
      "displayName": "Thomas George Thomas",
      "photoUrl": "https://lh3.googleusercontent.com/a-/AOh14GhRjmtno5yCmJOUjYiFNGHi_xP5YZBJ1ZpWGKsZ=s64",
      "userId": "09561174857978505545"
     },
     "user_tz": -330
    },
    "id": "VJfym93n6MDg",
    "outputId": "4e447870-be7d-483c-e8ce-b826000ed3da"
   },
   "outputs": [],
   "source": [
    "london_merged.dtypes"
   ]
  },
  {
   "cell_type": "markdown",
   "metadata": {
    "colab_type": "text",
    "id": "1XLMDLHv8Xn3"
   },
   "source": [
    "### Co-ordinates for London"
   ]
  },
  {
   "cell_type": "markdown",
   "metadata": {
    "colab_type": "text",
    "id": "41f8qjYwBWKn"
   },
   "source": [
    "Getting the geocode for London to help visualize it on the map"
   ]
  },
  {
   "cell_type": "code",
   "execution_count": null,
   "metadata": {
    "colab": {
     "base_uri": "https://localhost:8080/",
     "height": 34
    },
    "colab_type": "code",
    "executionInfo": {
     "elapsed": 79255,
     "status": "ok",
     "timestamp": 1597724201738,
     "user": {
      "displayName": "Thomas George Thomas",
      "photoUrl": "https://lh3.googleusercontent.com/a-/AOh14GhRjmtno5yCmJOUjYiFNGHi_xP5YZBJ1ZpWGKsZ=s64",
      "userId": "09561174857978505545"
     },
     "user_tz": -330
    },
    "id": "WJ7kEgdYzftU",
    "outputId": "060e2992-6545-4e06-8df9-69b046e54fbe"
   },
   "outputs": [],
   "source": [
    "london = geocode(address='London, England, GBR')[0]\n",
    "london_lng_coords = london['location']['x']\n",
    "london_lat_coords = london['location']['y']\n",
    "london_lng_coords"
   ]
  },
  {
   "cell_type": "code",
   "execution_count": null,
   "metadata": {
    "colab": {
     "base_uri": "https://localhost:8080/",
     "height": 34
    },
    "colab_type": "code",
    "executionInfo": {
     "elapsed": 79245,
     "status": "ok",
     "timestamp": 1597724201741,
     "user": {
      "displayName": "Thomas George Thomas",
      "photoUrl": "https://lh3.googleusercontent.com/a-/AOh14GhRjmtno5yCmJOUjYiFNGHi_xP5YZBJ1ZpWGKsZ=s64",
      "userId": "09561174857978505545"
     },
     "user_tz": -330
    },
    "id": "3I1vBFjn2MHg",
    "outputId": "152e3188-0be4-40b8-d25d-dbfd31d86740"
   },
   "outputs": [],
   "source": [
    "london_lat_coords"
   ]
  },
  {
   "cell_type": "markdown",
   "metadata": {
    "colab_type": "text",
    "id": "sQ9z3SG6_xz1"
   },
   "source": [
    "## Visualize the Map of London"
   ]
  },
  {
   "cell_type": "markdown",
   "metadata": {
    "colab_type": "text",
    "id": "3tJD4mMPBb4k"
   },
   "source": [
    "To help visualize the Map of London and the neighbourhoods in London, we make use of the folium package."
   ]
  },
  {
   "cell_type": "code",
   "execution_count": null,
   "metadata": {
    "colab": {
     "base_uri": "https://localhost:8080/",
     "height": 562
    },
    "colab_type": "code",
    "executionInfo": {
     "elapsed": 80372,
     "status": "ok",
     "timestamp": 1597724202881,
     "user": {
      "displayName": "Thomas George Thomas",
      "photoUrl": "https://lh3.googleusercontent.com/a-/AOh14GhRjmtno5yCmJOUjYiFNGHi_xP5YZBJ1ZpWGKsZ=s64",
      "userId": "09561174857978505545"
     },
     "user_tz": -330
    },
    "id": "zcHE91lR3pSo",
    "outputId": "218a8a6b-d8d3-4cd4-cbf5-2208fefa287c"
   },
   "outputs": [],
   "source": [
    "# Creating the map of London\n",
    "map_London = folium.Map(location=[london_lat_coords, london_lng_coords], zoom_start=12)\n",
    "map_London\n",
    "\n",
    "# adding markers to map\n",
    "for latitude, longitude, borough, town in zip(london_merged['latitude'], london_merged['longitude'], london_merged['borough'], london_merged['town']):\n",
    "    label = '{}, {}'.format(town, borough)\n",
    "    label = folium.Popup(label, parse_html=True)\n",
    "    folium.CircleMarker(\n",
    "        [latitude, longitude],\n",
    "        radius=5,\n",
    "        popup=label,\n",
    "        color='red',\n",
    "        fill=True\n",
    "        ).add_to(map_London)  \n",
    "    \n",
    "map_London"
   ]
  },
  {
   "cell_type": "markdown",
   "metadata": {
    "colab_type": "text",
    "id": "tcKxngW_BuEG"
   },
   "source": [
    "### Venues in London\n",
    "\n",
    "To proceed with the next part, we need to define Foursquare API credentials.\n",
    "\n",
    "Using Foursquare API, we are able to get the venue and venue categories around each neighbourhood in London."
   ]
  },
  {
   "cell_type": "code",
   "execution_count": null,
   "metadata": {
    "colab": {},
    "colab_type": "code",
    "executionInfo": {
     "elapsed": 1435,
     "status": "ok",
     "timestamp": 1597724393070,
     "user": {
      "displayName": "Thomas George Thomas",
      "photoUrl": "https://lh3.googleusercontent.com/a-/AOh14GhRjmtno5yCmJOUjYiFNGHi_xP5YZBJ1ZpWGKsZ=s64",
      "userId": "09561174857978505545"
     },
     "user_tz": -330
    },
    "id": "eamBBk_l4S3R"
   },
   "outputs": [],
   "source": [
    "CLIENT_ID = 'LDIJF4KI5VGMMA3NNDLFZWHR12TCMNTUL0TUC3QPZ3SJD040' \n",
    "CLIENT_SECRET = '0DXHVDFCZXNXFSLOFGOONJSS35KH4NAZXZN2AAAX5GCZVVTH'\n",
    "VERSION = '20180605' # Foursquare API version"
   ]
  },
  {
   "cell_type": "markdown",
   "metadata": {
    "colab_type": "text",
    "id": "ICQ_-zFJCHLr"
   },
   "source": [
    "Defining a function to get the neraby venues in the neighbourhood. This will help us get venue categories which is important for our analysis"
   ]
  },
  {
   "cell_type": "code",
   "execution_count": null,
   "metadata": {
    "colab": {},
    "colab_type": "code",
    "executionInfo": {
     "elapsed": 1114,
     "status": "ok",
     "timestamp": 1597726123089,
     "user": {
      "displayName": "Thomas George Thomas",
      "photoUrl": "https://lh3.googleusercontent.com/a-/AOh14GhRjmtno5yCmJOUjYiFNGHi_xP5YZBJ1ZpWGKsZ=s64",
      "userId": "09561174857978505545"
     },
     "user_tz": -330
    },
    "id": "xD096Lmt4gyd"
   },
   "outputs": [],
   "source": [
    "LIMIT=100\n",
    "\n",
    "def getNearbyVenues(names, latitudes, longitudes, radius=500):\n",
    "    \n",
    "    venues_list=[]\n",
    "    for name, lat, lng in zip(names, latitudes, longitudes):\n",
    "        print(name)\n",
    "            \n",
    "        # create the API request URL\n",
    "        url = 'https://api.foursquare.com/v2/venues/explore?&client_id={}&client_secret={}&v={}&ll={},{}&radius={}&limit={}'.format(\n",
    "            CLIENT_ID, \n",
    "            CLIENT_SECRET, \n",
    "            VERSION, \n",
    "            lat, \n",
    "            lng, \n",
    "            radius,\n",
    "            LIMIT\n",
    "            )\n",
    "            \n",
    "        # make the GET request\n",
    "        results = requests.get(url).json()[\"response\"]['groups'][0]['items']\n",
    "        \n",
    "        # return only relevant information for each nearby venue\n",
    "        venues_list.append([(\n",
    "            name, \n",
    "            lat, \n",
    "            lng, \n",
    "            v['venue']['name'], \n",
    "            v['venue']['categories'][0]['name']) for v in results])\n",
    "\n",
    "    nearby_venues = pd.DataFrame([item for venue_list in venues_list for item in venue_list])\n",
    "    nearby_venues.columns = ['Neighbourhood', \n",
    "                  'Neighbourhood Latitude', \n",
    "                  'Neighbourhood Longitude', \n",
    "                  'Venue', \n",
    "                  'Venue Category']\n",
    "    \n",
    "    return(nearby_venues)"
   ]
  },
  {
   "cell_type": "markdown",
   "metadata": {
    "colab_type": "text",
    "id": "eWpYH9fMHDwF"
   },
   "source": [
    "Getting the venues in London"
   ]
  },
  {
   "cell_type": "code",
   "execution_count": null,
   "metadata": {
    "colab": {
     "base_uri": "https://localhost:8080/",
     "height": 1000
    },
    "colab_type": "code",
    "executionInfo": {
     "elapsed": 136742,
     "status": "ok",
     "timestamp": 1597726342090,
     "user": {
      "displayName": "Thomas George Thomas",
      "photoUrl": "https://lh3.googleusercontent.com/a-/AOh14GhRjmtno5yCmJOUjYiFNGHi_xP5YZBJ1ZpWGKsZ=s64",
      "userId": "09561174857978505545"
     },
     "user_tz": -330
    },
    "id": "HuvqArTbGrTC",
    "outputId": "474a8938-d650-452f-f5be-c29287a1f4d1"
   },
   "outputs": [],
   "source": [
    "venues_in_London = getNearbyVenues(london_merged['borough'], london_merged['latitude'], london_merged['longitude'])"
   ]
  },
  {
   "cell_type": "markdown",
   "metadata": {
    "colab_type": "text",
    "id": "7z2A2RrgH-Uj"
   },
   "source": [
    "Sampling our data"
   ]
  },
  {
   "cell_type": "code",
   "execution_count": null,
   "metadata": {
    "colab": {
     "base_uri": "https://localhost:8080/",
     "height": 204
    },
    "colab_type": "code",
    "executionInfo": {
     "elapsed": 886,
     "status": "ok",
     "timestamp": 1597726412333,
     "user": {
      "displayName": "Thomas George Thomas",
      "photoUrl": "https://lh3.googleusercontent.com/a-/AOh14GhRjmtno5yCmJOUjYiFNGHi_xP5YZBJ1ZpWGKsZ=s64",
      "userId": "09561174857978505545"
     },
     "user_tz": -330
    },
    "id": "dqgUl-l7Hwl2",
    "outputId": "72827337-f22d-4883-8908-d2140824878f"
   },
   "outputs": [],
   "source": [
    "venues_in_London.head()"
   ]
  },
  {
   "cell_type": "code",
   "execution_count": null,
   "metadata": {
    "colab": {
     "base_uri": "https://localhost:8080/",
     "height": 34
    },
    "colab_type": "code",
    "executionInfo": {
     "elapsed": 857,
     "status": "ok",
     "timestamp": 1597726414838,
     "user": {
      "displayName": "Thomas George Thomas",
      "photoUrl": "https://lh3.googleusercontent.com/a-/AOh14GhRjmtno5yCmJOUjYiFNGHi_xP5YZBJ1ZpWGKsZ=s64",
      "userId": "09561174857978505545"
     },
     "user_tz": -330
    },
    "id": "qwArjLiqHx1W",
    "outputId": "e7bc5d2d-ab72-4e6c-d0c0-b86723191109"
   },
   "outputs": [],
   "source": [
    "venues_in_London.shape"
   ]
  },
  {
   "cell_type": "markdown",
   "metadata": {
    "colab_type": "text",
    "id": "4wtHcFifIBQB"
   },
   "source": [
    "Wow, we have scraped together 10567 records for venues. This will definitely make the clustering interesting.\n",
    "\n"
   ]
  },
  {
   "cell_type": "markdown",
   "metadata": {
    "colab_type": "text",
    "id": "Wo9iDUvQEDBO"
   },
   "source": [
    "### Grouping by Venue Categories\n",
    "We need to now see how many Venue Categories are there for further processing"
   ]
  },
  {
   "cell_type": "code",
   "execution_count": null,
   "metadata": {
    "colab": {
     "base_uri": "https://localhost:8080/",
     "height": 569
    },
    "colab_type": "code",
    "executionInfo": {
     "elapsed": 923,
     "status": "ok",
     "timestamp": 1597726437144,
     "user": {
      "displayName": "Thomas George Thomas",
      "photoUrl": "https://lh3.googleusercontent.com/a-/AOh14GhRjmtno5yCmJOUjYiFNGHi_xP5YZBJ1ZpWGKsZ=s64",
      "userId": "09561174857978505545"
     },
     "user_tz": -330
    },
    "id": "l7C-eb6QH5rT",
    "outputId": "d4ad63f8-6e11-4274-f8fb-796b8f2632d8"
   },
   "outputs": [],
   "source": [
    "venues_in_London.groupby('Venue Category').max()"
   ]
  },
  {
   "cell_type": "markdown",
   "metadata": {
    "colab_type": "text",
    "id": "GdqPySk5IgK_"
   },
   "source": [
    "We can see 295 records, just goes to show how diverse and interesting the place is."
   ]
  },
  {
   "cell_type": "markdown",
   "metadata": {
    "colab_type": "text",
    "id": "R9Ey4DrVIyZO"
   },
   "source": [
    "### One Hot Encoding \n",
    "We need to Encode our venue categories to get a better result for our clustering"
   ]
  },
  {
   "cell_type": "code",
   "execution_count": null,
   "metadata": {
    "colab": {
     "base_uri": "https://localhost:8080/",
     "height": 490
    },
    "colab_type": "code",
    "executionInfo": {
     "elapsed": 908,
     "status": "ok",
     "timestamp": 1597726455086,
     "user": {
      "displayName": "Thomas George Thomas",
      "photoUrl": "https://lh3.googleusercontent.com/a-/AOh14GhRjmtno5yCmJOUjYiFNGHi_xP5YZBJ1ZpWGKsZ=s64",
      "userId": "09561174857978505545"
     },
     "user_tz": -330
    },
    "id": "vbxYMxCuImr-",
    "outputId": "23a7c858-e7ab-4be3-8215-bf49fa5c12f9"
   },
   "outputs": [],
   "source": [
    "London_venue_cat = pd.get_dummies(venues_in_London[['Venue Category']], prefix=\"\", prefix_sep=\"\")\n",
    "London_venue_cat"
   ]
  },
  {
   "cell_type": "markdown",
   "metadata": {
    "colab_type": "text",
    "id": "JKIDAIdVJKOC"
   },
   "source": [
    "Adding Neighbourhood into the mix."
   ]
  },
  {
   "cell_type": "code",
   "execution_count": null,
   "metadata": {
    "colab": {
     "base_uri": "https://localhost:8080/",
     "height": 389
    },
    "colab_type": "code",
    "executionInfo": {
     "elapsed": 868,
     "status": "ok",
     "timestamp": 1597726459179,
     "user": {
      "displayName": "Thomas George Thomas",
      "photoUrl": "https://lh3.googleusercontent.com/a-/AOh14GhRjmtno5yCmJOUjYiFNGHi_xP5YZBJ1ZpWGKsZ=s64",
      "userId": "09561174857978505545"
     },
     "user_tz": -330
    },
    "id": "w5rnh3BCJNKQ",
    "outputId": "c7c4dbab-af11-477c-a6f4-1cc4a22dcb69"
   },
   "outputs": [],
   "source": [
    "London_venue_cat['Neighbourhood'] = venues_in_London['Neighbourhood'] \n",
    "\n",
    "# moving neighborhood column to the first column\n",
    "fixed_columns = [London_venue_cat.columns[-1]] + list(London_venue_cat.columns[:-1])\n",
    "London_venue_cat = London_venue_cat[fixed_columns]\n",
    "\n",
    "London_venue_cat.head()"
   ]
  },
  {
   "cell_type": "markdown",
   "metadata": {
    "colab_type": "text",
    "id": "A82meMzmJc6S"
   },
   "source": [
    "### Venue categories mean value\n",
    "We will group the Neighbourhoods and calculate the mean venue categories value in each Neighbourhood"
   ]
  },
  {
   "cell_type": "code",
   "execution_count": null,
   "metadata": {
    "colab": {
     "base_uri": "https://localhost:8080/",
     "height": 355
    },
    "colab_type": "code",
    "executionInfo": {
     "elapsed": 943,
     "status": "ok",
     "timestamp": 1597726463943,
     "user": {
      "displayName": "Thomas George Thomas",
      "photoUrl": "https://lh3.googleusercontent.com/a-/AOh14GhRjmtno5yCmJOUjYiFNGHi_xP5YZBJ1ZpWGKsZ=s64",
      "userId": "09561174857978505545"
     },
     "user_tz": -330
    },
    "id": "KoyGDi5eJdbu",
    "outputId": "d2da698d-0b97-46f4-b804-f541e77f6b26"
   },
   "outputs": [],
   "source": [
    "London_grouped = London_venue_cat.groupby('Neighbourhood').mean().reset_index()\n",
    "London_grouped.head()"
   ]
  },
  {
   "cell_type": "markdown",
   "metadata": {
    "colab_type": "text",
    "id": "LZ4Bt0ClJocT"
   },
   "source": [
    "\n",
    "Let's make a function to get the top most common venue categories"
   ]
  },
  {
   "cell_type": "code",
   "execution_count": null,
   "metadata": {
    "colab": {},
    "colab_type": "code",
    "executionInfo": {
     "elapsed": 971,
     "status": "ok",
     "timestamp": 1597726466911,
     "user": {
      "displayName": "Thomas George Thomas",
      "photoUrl": "https://lh3.googleusercontent.com/a-/AOh14GhRjmtno5yCmJOUjYiFNGHi_xP5YZBJ1ZpWGKsZ=s64",
      "userId": "09561174857978505545"
     },
     "user_tz": -330
    },
    "id": "tjyW795DJmNH"
   },
   "outputs": [],
   "source": [
    "def return_most_common_venues(row, num_top_venues):\n",
    "    row_categories = row.iloc[1:]\n",
    "    row_categories_sorted = row_categories.sort_values(ascending=False)\n",
    "    \n",
    "    return row_categories_sorted.index.values[0:num_top_venues]"
   ]
  },
  {
   "cell_type": "markdown",
   "metadata": {
    "colab_type": "text",
    "id": "-eXzEokNJ0KS"
   },
   "source": [
    "\n",
    "There are way too many venue categories, we can take the top 10 to cluster the neighbourhoods.\n",
    "\n",
    "Creating a function to label the columns of the venue correctly"
   ]
  },
  {
   "cell_type": "code",
   "execution_count": null,
   "metadata": {
    "colab": {},
    "colab_type": "code",
    "executionInfo": {
     "elapsed": 927,
     "status": "ok",
     "timestamp": 1597726469730,
     "user": {
      "displayName": "Thomas George Thomas",
      "photoUrl": "https://lh3.googleusercontent.com/a-/AOh14GhRjmtno5yCmJOUjYiFNGHi_xP5YZBJ1ZpWGKsZ=s64",
      "userId": "09561174857978505545"
     },
     "user_tz": -330
    },
    "id": "nQTjBbIzJmEy"
   },
   "outputs": [],
   "source": [
    "num_top_venues = 10\n",
    "\n",
    "indicators = ['st', 'nd', 'rd']\n",
    "\n",
    "# create columns according to number of top venues\n",
    "columns = ['Neighbourhood']\n",
    "for ind in np.arange(num_top_venues):\n",
    "    try:\n",
    "        columns.append('{}{} Most Common Venue'.format(ind+1, indicators[ind]))\n",
    "    except:\n",
    "        columns.append('{}th Most Common Venue'.format(ind+1))\n"
   ]
  },
  {
   "cell_type": "markdown",
   "metadata": {
    "colab_type": "text",
    "id": "XM1h20YeKL7h"
   },
   "source": [
    "### Top venue categories\n",
    "\n",
    "Getting the top venue categories in London"
   ]
  },
  {
   "cell_type": "code",
   "execution_count": null,
   "metadata": {
    "colab": {
     "base_uri": "https://localhost:8080/",
     "height": 323
    },
    "colab_type": "code",
    "executionInfo": {
     "elapsed": 1070,
     "status": "ok",
     "timestamp": 1597726538270,
     "user": {
      "displayName": "Thomas George Thomas",
      "photoUrl": "https://lh3.googleusercontent.com/a-/AOh14GhRjmtno5yCmJOUjYiFNGHi_xP5YZBJ1ZpWGKsZ=s64",
      "userId": "09561174857978505545"
     },
     "user_tz": -330
    },
    "id": "Qzo3lzicKCwy",
    "outputId": "2bc00dff-91b4-4209-8682-3fea840a165d"
   },
   "outputs": [],
   "source": [
    "# create a new dataframe for London\n",
    "neighborhoods_venues_sorted_london = pd.DataFrame(columns=columns)\n",
    "neighborhoods_venues_sorted_london['Neighbourhood'] = London_grouped['Neighbourhood']\n",
    "\n",
    "for ind in np.arange(London_grouped.shape[0]):\n",
    "    neighborhoods_venues_sorted_london.iloc[ind, 1:] = return_most_common_venues(London_grouped.iloc[ind, :], num_top_venues)\n",
    "\n",
    "neighborhoods_venues_sorted_london.head()"
   ]
  },
  {
   "cell_type": "markdown",
   "metadata": {
    "colab_type": "text",
    "id": "-XXzLZegLdVa"
   },
   "source": [
    "## Model Building"
   ]
  },
  {
   "cell_type": "markdown",
   "metadata": {
    "colab_type": "text",
    "id": "I5_mOz4RLndA"
   },
   "source": [
    "### K Means\n",
    "Let's cluster the city of london to roughly 5 to make it easier to analyze. \n",
    "\n",
    "We use the K Means clustering technique to do so."
   ]
  },
  {
   "cell_type": "code",
   "execution_count": null,
   "metadata": {
    "colab": {
     "base_uri": "https://localhost:8080/",
     "height": 68
    },
    "colab_type": "code",
    "executionInfo": {
     "elapsed": 979,
     "status": "ok",
     "timestamp": 1597726544374,
     "user": {
      "displayName": "Thomas George Thomas",
      "photoUrl": "https://lh3.googleusercontent.com/a-/AOh14GhRjmtno5yCmJOUjYiFNGHi_xP5YZBJ1ZpWGKsZ=s64",
      "userId": "09561174857978505545"
     },
     "user_tz": -330
    },
    "id": "T08O5L6wLf-6",
    "outputId": "847dff50-5c4b-4422-f024-7edd4dcd3e76"
   },
   "outputs": [],
   "source": [
    "# set number of clusters\n",
    "k_num_clusters = 5\n",
    "\n",
    "London_grouped_clustering = London_grouped.drop('Neighbourhood', 1)\n",
    "\n",
    "# run k-means clustering\n",
    "kmeans_london = KMeans(n_clusters=k_num_clusters, random_state=0).fit(London_grouped_clustering)\n",
    "kmeans_london"
   ]
  },
  {
   "cell_type": "markdown",
   "metadata": {
    "colab_type": "text",
    "id": "_7s2PWbvZxyW"
   },
   "source": [
    "### Labelling Clustered Data"
   ]
  },
  {
   "cell_type": "code",
   "execution_count": null,
   "metadata": {
    "colab": {
     "base_uri": "https://localhost:8080/",
     "height": 34
    },
    "colab_type": "code",
    "executionInfo": {
     "elapsed": 964,
     "status": "ok",
     "timestamp": 1597726548169,
     "user": {
      "displayName": "Thomas George Thomas",
      "photoUrl": "https://lh3.googleusercontent.com/a-/AOh14GhRjmtno5yCmJOUjYiFNGHi_xP5YZBJ1ZpWGKsZ=s64",
      "userId": "09561174857978505545"
     },
     "user_tz": -330
    },
    "id": "CGbB56rxMJYt",
    "outputId": "96c45f75-63f6-413a-96cf-1536eb3d0d29"
   },
   "outputs": [],
   "source": [
    "kmeans_london.labels_"
   ]
  },
  {
   "cell_type": "markdown",
   "metadata": {
    "colab_type": "text",
    "id": "ROjBszwqMPts"
   },
   "source": [
    "So our model has labeled the city"
   ]
  },
  {
   "cell_type": "code",
   "execution_count": null,
   "metadata": {
    "colab": {},
    "colab_type": "code",
    "executionInfo": {
     "elapsed": 873,
     "status": "ok",
     "timestamp": 1597726550641,
     "user": {
      "displayName": "Thomas George Thomas",
      "photoUrl": "https://lh3.googleusercontent.com/a-/AOh14GhRjmtno5yCmJOUjYiFNGHi_xP5YZBJ1ZpWGKsZ=s64",
      "userId": "09561174857978505545"
     },
     "user_tz": -330
    },
    "id": "YugUnQhbMLdu"
   },
   "outputs": [],
   "source": [
    "neighborhoods_venues_sorted_london.insert(0, 'Cluster Labels', kmeans_london.labels_ +1)"
   ]
  },
  {
   "cell_type": "markdown",
   "metadata": {
    "colab_type": "text",
    "id": "QNmiw0VpMkTH"
   },
   "source": [
    "Join London_merged with our neighbourhood venues sorted to add latitude & longitude for each of the neighborhood to prepare it for plotting"
   ]
  },
  {
   "cell_type": "code",
   "execution_count": null,
   "metadata": {
    "colab": {
     "base_uri": "https://localhost:8080/",
     "height": 411
    },
    "colab_type": "code",
    "executionInfo": {
     "elapsed": 1077,
     "status": "ok",
     "timestamp": 1597726556008,
     "user": {
      "displayName": "Thomas George Thomas",
      "photoUrl": "https://lh3.googleusercontent.com/a-/AOh14GhRjmtno5yCmJOUjYiFNGHi_xP5YZBJ1ZpWGKsZ=s64",
      "userId": "09561174857978505545"
     },
     "user_tz": -330
    },
    "id": "Ldt_rQ3mMj_e",
    "outputId": "b3f79bf3-87ec-401c-fbf9-bf40b0fd23f1"
   },
   "outputs": [],
   "source": [
    "london_data = london_merged\n",
    "\n",
    "london_data = london_data.join(neighborhoods_venues_sorted_london.set_index('Neighbourhood'), on='borough')\n",
    "\n",
    "london_data.head()"
   ]
  },
  {
   "cell_type": "markdown",
   "metadata": {
    "colab_type": "text",
    "id": "gD30G-AoNk8N"
   },
   "source": [
    "\n",
    "Drop all the NaN values to prevent data skew"
   ]
  },
  {
   "cell_type": "code",
   "execution_count": null,
   "metadata": {
    "colab": {},
    "colab_type": "code",
    "executionInfo": {
     "elapsed": 940,
     "status": "ok",
     "timestamp": 1597726562692,
     "user": {
      "displayName": "Thomas George Thomas",
      "photoUrl": "https://lh3.googleusercontent.com/a-/AOh14GhRjmtno5yCmJOUjYiFNGHi_xP5YZBJ1ZpWGKsZ=s64",
      "userId": "09561174857978505545"
     },
     "user_tz": -330
    },
    "id": "_4ZtK94ZMiuj"
   },
   "outputs": [],
   "source": [
    "london_data_nonan = london_data.dropna(subset=['Cluster Labels'])"
   ]
  },
  {
   "cell_type": "markdown",
   "metadata": {
    "colab_type": "text",
    "id": "h5IAN7aYOljr"
   },
   "source": [
    "### Visualizing the clustered neighbourhood\n",
    "Let's plot the clusters"
   ]
  },
  {
   "cell_type": "code",
   "execution_count": null,
   "metadata": {
    "colab": {
     "base_uri": "https://localhost:8080/",
     "height": 743
    },
    "colab_type": "code",
    "executionInfo": {
     "elapsed": 1800,
     "status": "ok",
     "timestamp": 1597726567580,
     "user": {
      "displayName": "Thomas George Thomas",
      "photoUrl": "https://lh3.googleusercontent.com/a-/AOh14GhRjmtno5yCmJOUjYiFNGHi_xP5YZBJ1ZpWGKsZ=s64",
      "userId": "09561174857978505545"
     },
     "user_tz": -330
    },
    "id": "EEv8cac3Okdg",
    "outputId": "32fcb958-2ee1-4089-9b21-294c69f2762b"
   },
   "outputs": [],
   "source": [
    "map_clusters_london = folium.Map(location=[london_lat_coords, london_lng_coords], zoom_start=12)\n",
    "\n",
    "# set color scheme for the clusters\n",
    "x = np.arange(k_num_clusters)\n",
    "ys = [i + x + (i*x)**2 for i in range(k_num_clusters)]\n",
    "colors_array = cm.rainbow(np.linspace(0, 1, len(ys)))\n",
    "rainbow = [colors.rgb2hex(i) for i in colors_array]\n",
    "\n",
    "# add markers to the map\n",
    "markers_colors = []\n",
    "for lat, lon, poi, cluster in zip(london_data_nonan['latitude'], london_data_nonan['longitude'], london_data_nonan['borough'], london_data_nonan['Cluster Labels']):\n",
    "    label = folium.Popup('Cluster ' + str(int(cluster) +1) + '\\n' + str(poi) , parse_html=True)\n",
    "    folium.CircleMarker(\n",
    "        [lat, lon],\n",
    "        radius=5,\n",
    "        popup=label,\n",
    "        color=rainbow[int(cluster-1)],\n",
    "        fill=True,\n",
    "        fill_color=rainbow[int(cluster-1)]\n",
    "        ).add_to(map_clusters_london)\n",
    "        \n",
    "map_clusters_london"
   ]
  },
  {
   "cell_type": "markdown",
   "metadata": {
    "colab_type": "text",
    "id": "2p6Ndn18Pj2m"
   },
   "source": [
    "## Examining our Clusters"
   ]
  },
  {
   "cell_type": "markdown",
   "metadata": {
    "colab_type": "text",
    "id": "Jx9KwrZ3P6Uf"
   },
   "source": [
    "Cluster 1"
   ]
  },
  {
   "cell_type": "code",
   "execution_count": null,
   "metadata": {
    "colab": {
     "base_uri": "https://localhost:8080/",
     "height": 227
    },
    "colab_type": "code",
    "executionInfo": {
     "elapsed": 1050,
     "status": "ok",
     "timestamp": 1597726606178,
     "user": {
      "displayName": "Thomas George Thomas",
      "photoUrl": "https://lh3.googleusercontent.com/a-/AOh14GhRjmtno5yCmJOUjYiFNGHi_xP5YZBJ1ZpWGKsZ=s64",
      "userId": "09561174857978505545"
     },
     "user_tz": -330
    },
    "id": "IIRvkQZuPjNM",
    "outputId": "e4a7c639-7d36-48fe-9d78-874b9d0579c8"
   },
   "outputs": [],
   "source": [
    "london_data_nonan.loc[london_data_nonan['Cluster Labels'] == 1, london_data_nonan.columns[[1] + list(range(5, london_data_nonan.shape[1]))]]"
   ]
  },
  {
   "cell_type": "markdown",
   "metadata": {
    "colab_type": "text",
    "id": "n_5zENbHQHDc"
   },
   "source": [
    "Cluster 2"
   ]
  },
  {
   "cell_type": "code",
   "execution_count": null,
   "metadata": {
    "colab": {
     "base_uri": "https://localhost:8080/",
     "height": 708
    },
    "colab_type": "code",
    "executionInfo": {
     "elapsed": 926,
     "status": "ok",
     "timestamp": 1597726609697,
     "user": {
      "displayName": "Thomas George Thomas",
      "photoUrl": "https://lh3.googleusercontent.com/a-/AOh14GhRjmtno5yCmJOUjYiFNGHi_xP5YZBJ1ZpWGKsZ=s64",
      "userId": "09561174857978505545"
     },
     "user_tz": -330
    },
    "id": "i52C8QyOQIIj",
    "outputId": "eed949ed-ba5f-4199-9270-55c8976640a6"
   },
   "outputs": [],
   "source": [
    "london_data_nonan.loc[london_data_nonan['Cluster Labels'] == 2, london_data_nonan.columns[[1] + list(range(5, london_data_nonan.shape[1]))]]"
   ]
  },
  {
   "cell_type": "markdown",
   "metadata": {
    "colab_type": "text",
    "id": "v4QPzdbeQrH7"
   },
   "source": [
    "Cluster 3"
   ]
  },
  {
   "cell_type": "code",
   "execution_count": null,
   "metadata": {
    "colab": {
     "base_uri": "https://localhost:8080/",
     "height": 148
    },
    "colab_type": "code",
    "executionInfo": {
     "elapsed": 879,
     "status": "ok",
     "timestamp": 1597726615898,
     "user": {
      "displayName": "Thomas George Thomas",
      "photoUrl": "https://lh3.googleusercontent.com/a-/AOh14GhRjmtno5yCmJOUjYiFNGHi_xP5YZBJ1ZpWGKsZ=s64",
      "userId": "09561174857978505545"
     },
     "user_tz": -330
    },
    "id": "2rUpGO0rQrwn",
    "outputId": "271607d2-250f-4da1-bc6f-c70e2d5a211e"
   },
   "outputs": [],
   "source": [
    "london_data_nonan.loc[london_data_nonan['Cluster Labels'] == 3, london_data_nonan.columns[[1] + list(range(5, london_data_nonan.shape[1]))]]"
   ]
  },
  {
   "cell_type": "markdown",
   "metadata": {
    "colab_type": "text",
    "id": "vNoT1xCCQvDT"
   },
   "source": [
    "Cluster 4"
   ]
  },
  {
   "cell_type": "code",
   "execution_count": null,
   "metadata": {
    "colab": {
     "base_uri": "https://localhost:8080/",
     "height": 323
    },
    "colab_type": "code",
    "executionInfo": {
     "elapsed": 896,
     "status": "ok",
     "timestamp": 1597726618875,
     "user": {
      "displayName": "Thomas George Thomas",
      "photoUrl": "https://lh3.googleusercontent.com/a-/AOh14GhRjmtno5yCmJOUjYiFNGHi_xP5YZBJ1ZpWGKsZ=s64",
      "userId": "09561174857978505545"
     },
     "user_tz": -330
    },
    "id": "aOAToKVrQtFl",
    "outputId": "c28def20-b1e8-407d-d5ee-d8c297ecb10c"
   },
   "outputs": [],
   "source": [
    "london_data_nonan.loc[london_data_nonan['Cluster Labels'] == 4, london_data_nonan.columns[[1] + list(range(5, london_data_nonan.shape[1]))]]"
   ]
  },
  {
   "cell_type": "markdown",
   "metadata": {
    "colab_type": "text",
    "id": "ouOfglijQ4QA"
   },
   "source": [
    "Cluster 5"
   ]
  },
  {
   "cell_type": "code",
   "execution_count": null,
   "metadata": {
    "colab": {
     "base_uri": "https://localhost:8080/",
     "height": 131
    },
    "colab_type": "code",
    "executionInfo": {
     "elapsed": 922,
     "status": "ok",
     "timestamp": 1597726622710,
     "user": {
      "displayName": "Thomas George Thomas",
      "photoUrl": "https://lh3.googleusercontent.com/a-/AOh14GhRjmtno5yCmJOUjYiFNGHi_xP5YZBJ1ZpWGKsZ=s64",
      "userId": "09561174857978505545"
     },
     "user_tz": -330
    },
    "id": "F4xYIT6BQxG_",
    "outputId": "feba1e4e-1df5-4d60-9afb-cf628b727c93"
   },
   "outputs": [],
   "source": [
    "london_data_nonan.loc[london_data_nonan['Cluster Labels'] == 5, london_data_nonan.columns[[1] + list(range(5, london_data_nonan.shape[1]))]]"
   ]
  },
  {
   "cell_type": "markdown",
   "metadata": {
    "colab_type": "text",
    "id": "aXdXyCMADTkE"
   },
   "source": [
    "\n",
    "\n",
    "---\n",
    "\n"
   ]
  },
  {
   "cell_type": "markdown",
   "metadata": {
    "colab_type": "text",
    "id": "jPYa4ndclOfW"
   },
   "source": [
    "# Exploring Paris"
   ]
  },
  {
   "cell_type": "markdown",
   "metadata": {
    "colab_type": "text",
    "id": "3m7lWyn7oFOu"
   },
   "source": [
    "## Neighbourhoods of Paris"
   ]
  },
  {
   "cell_type": "markdown",
   "metadata": {
    "colab_type": "text",
    "id": "d734ul63oNUI"
   },
   "source": [
    "### Data Collection\n",
    "\n",
    "We read the json data with pandas."
   ]
  },
  {
   "cell_type": "code",
   "execution_count": null,
   "metadata": {
    "colab": {
     "base_uri": "https://localhost:8080/",
     "height": 34
    },
    "colab_type": "code",
    "executionInfo": {
     "elapsed": 4313,
     "status": "ok",
     "timestamp": 1597726666430,
     "user": {
      "displayName": "Thomas George Thomas",
      "photoUrl": "https://lh3.googleusercontent.com/a-/AOh14GhRjmtno5yCmJOUjYiFNGHi_xP5YZBJ1ZpWGKsZ=s64",
      "userId": "09561174857978505545"
     },
     "user_tz": -330
    },
    "id": "OVkE7jKFpTww",
    "outputId": "f0cad7d7-41d3-48af-8797-d37c96eabfcc"
   },
   "outputs": [],
   "source": [
    "!wget -q -O 'france-data.json' https://www.data.gouv.fr/fr/datasets/r/e88c6fda-1d09-42a0-a069-606d3259114e\n",
    "print(\"Data Downloaded!\")"
   ]
  },
  {
   "cell_type": "code",
   "execution_count": null,
   "metadata": {
    "colab": {
     "base_uri": "https://localhost:8080/",
     "height": 391
    },
    "colab_type": "code",
    "executionInfo": {
     "elapsed": 1061,
     "status": "ok",
     "timestamp": 1597724798497,
     "user": {
      "displayName": "Thomas George Thomas",
      "photoUrl": "https://lh3.googleusercontent.com/a-/AOh14GhRjmtno5yCmJOUjYiFNGHi_xP5YZBJ1ZpWGKsZ=s64",
      "userId": "09561174857978505545"
     },
     "user_tz": -330
    },
    "id": "nffsOgK1Q6p-",
    "outputId": "0858583c-67c2-45f5-c8c6-553ae733734f"
   },
   "outputs": [],
   "source": [
    "paris_raw = pd.read_json('france-data.json')\n",
    "paris_raw.head()"
   ]
  },
  {
   "cell_type": "markdown",
   "metadata": {
    "colab_type": "text",
    "id": "sT-xqUiyooSX"
   },
   "source": [
    "### Data Preprocessing"
   ]
  },
  {
   "cell_type": "markdown",
   "metadata": {
    "colab_type": "text",
    "id": "s3GP-Ob3oAE0"
   },
   "source": [
    "We break down each of the nested fields and create the dataframe that we need"
   ]
  },
  {
   "cell_type": "code",
   "execution_count": null,
   "metadata": {
    "colab": {
     "base_uri": "https://localhost:8080/",
     "height": 479
    },
    "colab_type": "code",
    "executionInfo": {
     "elapsed": 10874,
     "status": "ok",
     "timestamp": 1597724811856,
     "user": {
      "displayName": "Thomas George Thomas",
      "photoUrl": "https://lh3.googleusercontent.com/a-/AOh14GhRjmtno5yCmJOUjYiFNGHi_xP5YZBJ1ZpWGKsZ=s64",
      "userId": "09561174857978505545"
     },
     "user_tz": -330
    },
    "id": "9zAY3PARljJu",
    "outputId": "9e269126-4cc6-4025-faf3-8b1de9d21202"
   },
   "outputs": [],
   "source": [
    "paris_field_data = pd.DataFrame()\n",
    "for f in paris_raw.fields:\n",
    "    dict_new = f\n",
    "    paris_field_data = paris_field_data.append(dict_new, ignore_index=True)\n",
    "\n",
    "paris_field_data.head()"
   ]
  },
  {
   "cell_type": "markdown",
   "metadata": {
    "colab_type": "text",
    "id": "wTOzokmarank"
   },
   "source": [
    "### Feature Selection\n",
    "\n",
    "We take the columns that we require, in case of paris it would be the geo_point_2d, nom_dept, nom_comm and postal_code"
   ]
  },
  {
   "cell_type": "code",
   "execution_count": null,
   "metadata": {
    "colab": {
     "base_uri": "https://localhost:8080/",
     "height": 419
    },
    "colab_type": "code",
    "executionInfo": {
     "elapsed": 987,
     "status": "ok",
     "timestamp": 1597724817360,
     "user": {
      "displayName": "Thomas George Thomas",
      "photoUrl": "https://lh3.googleusercontent.com/a-/AOh14GhRjmtno5yCmJOUjYiFNGHi_xP5YZBJ1ZpWGKsZ=s64",
      "userId": "09561174857978505545"
     },
     "user_tz": -330
    },
    "id": "ocWVLhaQsjwB",
    "outputId": "46fa112e-de9e-473d-ee31-92171909dd88"
   },
   "outputs": [],
   "source": [
    "df_2 = paris_field_data[['postal_code','nom_comm','nom_dept','geo_point_2d']]\n",
    "df_2"
   ]
  },
  {
   "cell_type": "markdown",
   "metadata": {
    "colab_type": "text",
    "id": "qFrgAIGuuuRN"
   },
   "source": [
    "We have managed to collect 1300 records."
   ]
  },
  {
   "cell_type": "markdown",
   "metadata": {
    "colab_type": "text",
    "id": "gO0VsV6-suSD"
   },
   "source": [
    "### Feature Engineering\n",
    "\n",
    "We localize to only include Paris"
   ]
  },
  {
   "cell_type": "code",
   "execution_count": null,
   "metadata": {
    "colab": {
     "base_uri": "https://localhost:8080/",
     "height": 669
    },
    "colab_type": "code",
    "executionInfo": {
     "elapsed": 966,
     "status": "ok",
     "timestamp": 1597724828216,
     "user": {
      "displayName": "Thomas George Thomas",
      "photoUrl": "https://lh3.googleusercontent.com/a-/AOh14GhRjmtno5yCmJOUjYiFNGHi_xP5YZBJ1ZpWGKsZ=s64",
      "userId": "09561174857978505545"
     },
     "user_tz": -330
    },
    "id": "uk5hNwMTslFE",
    "outputId": "e1527014-cfcb-4fa1-8ea2-4a43dd4d5fcc"
   },
   "outputs": [],
   "source": [
    "df_paris = df_2[df_2['nom_dept'].str.contains('PARIS')].reset_index(drop=True)\n",
    "df_paris"
   ]
  },
  {
   "cell_type": "code",
   "execution_count": null,
   "metadata": {
    "colab": {
     "base_uri": "https://localhost:8080/",
     "height": 34
    },
    "colab_type": "code",
    "executionInfo": {
     "elapsed": 1121,
     "status": "ok",
     "timestamp": 1597724832266,
     "user": {
      "displayName": "Thomas George Thomas",
      "photoUrl": "https://lh3.googleusercontent.com/a-/AOh14GhRjmtno5yCmJOUjYiFNGHi_xP5YZBJ1ZpWGKsZ=s64",
      "userId": "09561174857978505545"
     },
     "user_tz": -330
    },
    "id": "lBkkWEGRs9PU",
    "outputId": "a001fb56-5ff1-466d-f82a-721d972bafc1"
   },
   "outputs": [],
   "source": [
    "df_paris.shape"
   ]
  },
  {
   "cell_type": "markdown",
   "metadata": {
    "colab_type": "text",
    "id": "CmO_7-HzvNDL"
   },
   "source": [
    "We have managed to bring down the records to just 20 from 1300. Paris data is quite small than initally thought"
   ]
  },
  {
   "cell_type": "code",
   "execution_count": null,
   "metadata": {
    "colab": {
     "base_uri": "https://localhost:8080/",
     "height": 102
    },
    "colab_type": "code",
    "executionInfo": {
     "elapsed": 1031,
     "status": "ok",
     "timestamp": 1597724834566,
     "user": {
      "displayName": "Thomas George Thomas",
      "photoUrl": "https://lh3.googleusercontent.com/a-/AOh14GhRjmtno5yCmJOUjYiFNGHi_xP5YZBJ1ZpWGKsZ=s64",
      "userId": "09561174857978505545"
     },
     "user_tz": -330
    },
    "id": "XuxRsJGfvGST",
    "outputId": "2ee7d066-9adc-4104-fcb1-f11995343418"
   },
   "outputs": [],
   "source": [
    "df_paris.dtypes"
   ]
  },
  {
   "cell_type": "markdown",
   "metadata": {
    "colab_type": "text",
    "id": "2neZ7_mL5CY_"
   },
   "source": [
    "## Gelocations of the Neighbourhoods of Paris\n"
   ]
  },
  {
   "cell_type": "markdown",
   "metadata": {
    "colab_type": "text",
    "id": "TObZN5yxw4go"
   },
   "source": [
    "We don't need to get the geo coordinates using an external data source or collect it with the arcgis API call since we already have it stored in the *geo_point_2d* column as a tuple in the *df_paris* dataframe.\n",
    "\n",
    "Checking one of the geo coordinates."
   ]
  },
  {
   "cell_type": "code",
   "execution_count": null,
   "metadata": {
    "colab": {
     "base_uri": "https://localhost:8080/",
     "height": 34
    },
    "colab_type": "code",
    "executionInfo": {
     "elapsed": 846,
     "status": "ok",
     "timestamp": 1597726677952,
     "user": {
      "displayName": "Thomas George Thomas",
      "photoUrl": "https://lh3.googleusercontent.com/a-/AOh14GhRjmtno5yCmJOUjYiFNGHi_xP5YZBJ1ZpWGKsZ=s64",
      "userId": "09561174857978505545"
     },
     "user_tz": -330
    },
    "id": "R8mGWboZwbDi",
    "outputId": "defb2e53-1cbf-47dc-ef63-9e80dc209251"
   },
   "outputs": [],
   "source": [
    "df_paris['geo_point_2d'][0]"
   ]
  },
  {
   "cell_type": "code",
   "execution_count": null,
   "metadata": {
    "colab": {
     "base_uri": "https://localhost:8080/",
     "height": 374
    },
    "colab_type": "code",
    "executionInfo": {
     "elapsed": 1188,
     "status": "ok",
     "timestamp": 1597724840911,
     "user": {
      "displayName": "Thomas George Thomas",
      "photoUrl": "https://lh3.googleusercontent.com/a-/AOh14GhRjmtno5yCmJOUjYiFNGHi_xP5YZBJ1ZpWGKsZ=s64",
      "userId": "09561174857978505545"
     },
     "user_tz": -330
    },
    "id": "6j9zW4ZWxlJy",
    "outputId": "fc5a3156-db2a-435d-a13a-5930cd6bf34c"
   },
   "outputs": [],
   "source": [
    "temp1 = df_paris['geo_point_2d']\n",
    "temp1"
   ]
  },
  {
   "cell_type": "code",
   "execution_count": null,
   "metadata": {
    "colab": {},
    "colab_type": "code",
    "executionInfo": {
     "elapsed": 1108,
     "status": "ok",
     "timestamp": 1597724844187,
     "user": {
      "displayName": "Thomas George Thomas",
      "photoUrl": "https://lh3.googleusercontent.com/a-/AOh14GhRjmtno5yCmJOUjYiFNGHi_xP5YZBJ1ZpWGKsZ=s64",
      "userId": "09561174857978505545"
     },
     "user_tz": -330
    },
    "id": "qHXtaZm7yWn1"
   },
   "outputs": [],
   "source": [
    "paris_latlng = df_paris['geo_point_2d'].astype('str')"
   ]
  },
  {
   "cell_type": "markdown",
   "metadata": {
    "colab_type": "text",
    "id": "NvmAX-ru20fy"
   },
   "source": [
    "Spliting the geo_point_2d column into latitude and longitude.\n",
    "\n",
    "### Latitude"
   ]
  },
  {
   "cell_type": "code",
   "execution_count": null,
   "metadata": {
    "colab": {
     "base_uri": "https://localhost:8080/",
     "height": 374
    },
    "colab_type": "code",
    "executionInfo": {
     "elapsed": 792,
     "status": "ok",
     "timestamp": 1597724851052,
     "user": {
      "displayName": "Thomas George Thomas",
      "photoUrl": "https://lh3.googleusercontent.com/a-/AOh14GhRjmtno5yCmJOUjYiFNGHi_xP5YZBJ1ZpWGKsZ=s64",
      "userId": "09561174857978505545"
     },
     "user_tz": -330
    },
    "id": "Tc4-QOJhyi_N",
    "outputId": "58d3455a-fe04-4f9b-81c9-7eea25dd38e0"
   },
   "outputs": [],
   "source": [
    "paris_lat = paris_latlng.apply(lambda x: x.split(',')[0])\n",
    "paris_lat = paris_lat.apply(lambda x: x.lstrip('['))\n",
    "paris_lat"
   ]
  },
  {
   "cell_type": "markdown",
   "metadata": {
    "colab_type": "text",
    "id": "t09TEBK23AVF"
   },
   "source": [
    "### Longitude"
   ]
  },
  {
   "cell_type": "code",
   "execution_count": null,
   "metadata": {
    "colab": {
     "base_uri": "https://localhost:8080/",
     "height": 374
    },
    "colab_type": "code",
    "executionInfo": {
     "elapsed": 896,
     "status": "ok",
     "timestamp": 1597724854216,
     "user": {
      "displayName": "Thomas George Thomas",
      "photoUrl": "https://lh3.googleusercontent.com/a-/AOh14GhRjmtno5yCmJOUjYiFNGHi_xP5YZBJ1ZpWGKsZ=s64",
      "userId": "09561174857978505545"
     },
     "user_tz": -330
    },
    "id": "qsbdXzs72qr5",
    "outputId": "2074fdc4-87ab-41f6-a023-4437487bc89f"
   },
   "outputs": [],
   "source": [
    "paris_lng = paris_latlng.apply(lambda x: x.split(',')[1])\n",
    "paris_lng = paris_lng.apply(lambda x: x.rstrip(']'))\n",
    "paris_lng"
   ]
  },
  {
   "cell_type": "code",
   "execution_count": null,
   "metadata": {
    "colab": {},
    "colab_type": "code",
    "executionInfo": {
     "elapsed": 929,
     "status": "ok",
     "timestamp": 1597724857320,
     "user": {
      "displayName": "Thomas George Thomas",
      "photoUrl": "https://lh3.googleusercontent.com/a-/AOh14GhRjmtno5yCmJOUjYiFNGHi_xP5YZBJ1ZpWGKsZ=s64",
      "userId": "09561174857978505545"
     },
     "user_tz": -330
    },
    "id": "XiuOe27Dw_ou"
   },
   "outputs": [],
   "source": [
    "paris_geo_lat  = pd.DataFrame(paris_lat.astype(float))\n",
    "paris_geo_lat.columns=['Latitude']\n",
    "paris_geo_lng = pd.DataFrame(paris_lng.astype(float))\n",
    "paris_geo_lng.columns=['Longitude']"
   ]
  },
  {
   "cell_type": "markdown",
   "metadata": {
    "colab_type": "text",
    "id": "MRKP6s3M4jwp"
   },
   "source": [
    "Preparing our combined data by dropping the geo_point_2d column from our previously stored df_paris and concatenating with the latitude and longitude extracted from it"
   ]
  },
  {
   "cell_type": "code",
   "execution_count": null,
   "metadata": {
    "colab": {
     "base_uri": "https://localhost:8080/",
     "height": 669
    },
    "colab_type": "code",
    "executionInfo": {
     "elapsed": 878,
     "status": "ok",
     "timestamp": 1597724859880,
     "user": {
      "displayName": "Thomas George Thomas",
      "photoUrl": "https://lh3.googleusercontent.com/a-/AOh14GhRjmtno5yCmJOUjYiFNGHi_xP5YZBJ1ZpWGKsZ=s64",
      "userId": "09561174857978505545"
     },
     "user_tz": -330
    },
    "id": "3LehISAQ3G9P",
    "outputId": "3a7cf05a-65ed-4aa4-a906-505d2efdb793"
   },
   "outputs": [],
   "source": [
    "paris_combined_data = pd.concat([df_paris.drop('geo_point_2d', axis=1), paris_geo_lat, paris_geo_lng], axis=1)\n",
    "paris_combined_data"
   ]
  },
  {
   "cell_type": "markdown",
   "metadata": {
    "colab_type": "text",
    "id": "fpBJCQsc8kZH"
   },
   "source": [
    "### Co-ordinates for Paris"
   ]
  },
  {
   "cell_type": "code",
   "execution_count": null,
   "metadata": {
    "colab": {
     "base_uri": "https://localhost:8080/",
     "height": 34
    },
    "colab_type": "code",
    "executionInfo": {
     "elapsed": 1397,
     "status": "ok",
     "timestamp": 1597724867254,
     "user": {
      "displayName": "Thomas George Thomas",
      "photoUrl": "https://lh3.googleusercontent.com/a-/AOh14GhRjmtno5yCmJOUjYiFNGHi_xP5YZBJ1ZpWGKsZ=s64",
      "userId": "09561174857978505545"
     },
     "user_tz": -330
    },
    "id": "Ko5RjYIN8r9_",
    "outputId": "9693ce0d-efa4-4b20-f6af-ba7a97b496a7"
   },
   "outputs": [],
   "source": [
    "paris = geocode(address='Paris, France, FR')[0]\n",
    "paris_lng_coords = paris['location']['x']\n",
    "paris_lat_coords = paris['location']['y']\n",
    "print(\"The geolocation of Paris: \", paris_lat_coords, paris_lng_coords)"
   ]
  },
  {
   "cell_type": "markdown",
   "metadata": {
    "colab_type": "text",
    "id": "Ojl8KVTV8KVr"
   },
   "source": [
    "## Visualize the Map of Paris"
   ]
  },
  {
   "cell_type": "code",
   "execution_count": null,
   "metadata": {
    "colab": {
     "base_uri": "https://localhost:8080/",
     "height": 562
    },
    "colab_type": "code",
    "executionInfo": {
     "elapsed": 885,
     "status": "ok",
     "timestamp": 1597724896619,
     "user": {
      "displayName": "Thomas George Thomas",
      "photoUrl": "https://lh3.googleusercontent.com/a-/AOh14GhRjmtno5yCmJOUjYiFNGHi_xP5YZBJ1ZpWGKsZ=s64",
      "userId": "09561174857978505545"
     },
     "user_tz": -330
    },
    "id": "DvEkCSaS4U7p",
    "outputId": "0323e2b1-bdb3-4851-d3a3-81d0e71bf4eb"
   },
   "outputs": [],
   "source": [
    "# Creating the map of Paris\n",
    "map_Paris= folium.Map(location=[paris_lat_coords, paris_lng_coords], zoom_start=12)\n",
    "map_Paris\n",
    "\n",
    "# adding markers to map\n",
    "for latitude, longitude, borough, town in zip(paris_combined_data['Latitude'], paris_combined_data['Longitude'], paris_combined_data['nom_comm'], paris_combined_data['nom_dept']):\n",
    "    label = '{}, {}'.format(town, borough)\n",
    "    label = folium.Popup(label, parse_html=True)\n",
    "    folium.CircleMarker(\n",
    "        [latitude, longitude],\n",
    "        radius=5,\n",
    "        popup=label,\n",
    "        color='Blue',\n",
    "        fill=True,\n",
    "        fill_opacity=0.8\n",
    "        ).add_to(map_Paris)  \n",
    "    \n",
    "map_Paris"
   ]
  },
  {
   "cell_type": "markdown",
   "metadata": {
    "colab_type": "text",
    "id": "AIZ0OMTLCxlR"
   },
   "source": [
    "### Venues in Paris\n",
    "\n",
    "Using our previously defined function. Let's get the neaby venues present in each neighbourhood of Paris"
   ]
  },
  {
   "cell_type": "code",
   "execution_count": null,
   "metadata": {
    "colab": {
     "base_uri": "https://localhost:8080/",
     "height": 357
    },
    "colab_type": "code",
    "executionInfo": {
     "elapsed": 39179,
     "status": "ok",
     "timestamp": 1597726731988,
     "user": {
      "displayName": "Thomas George Thomas",
      "photoUrl": "https://lh3.googleusercontent.com/a-/AOh14GhRjmtno5yCmJOUjYiFNGHi_xP5YZBJ1ZpWGKsZ=s64",
      "userId": "09561174857978505545"
     },
     "user_tz": -330
    },
    "id": "8UdUocfeCw_u",
    "outputId": "1c91c9db-c554-44e5-cfe1-5b0638c021cd"
   },
   "outputs": [],
   "source": [
    "venues_in_Paris = getNearbyVenues(paris_combined_data['nom_comm'], paris_combined_data['Latitude'], paris_combined_data['Longitude'])"
   ]
  },
  {
   "cell_type": "markdown",
   "metadata": {
    "colab_type": "text",
    "id": "SUP9WksmDhpT"
   },
   "source": [
    "Sampling our Data"
   ]
  },
  {
   "cell_type": "code",
   "execution_count": null,
   "metadata": {
    "colab": {
     "base_uri": "https://localhost:8080/",
     "height": 306
    },
    "colab_type": "code",
    "executionInfo": {
     "elapsed": 893,
     "status": "ok",
     "timestamp": 1597726736900,
     "user": {
      "displayName": "Thomas George Thomas",
      "photoUrl": "https://lh3.googleusercontent.com/a-/AOh14GhRjmtno5yCmJOUjYiFNGHi_xP5YZBJ1ZpWGKsZ=s64",
      "userId": "09561174857978505545"
     },
     "user_tz": -330
    },
    "id": "dbzuY4f3-lZz",
    "outputId": "8894b914-7069-4450-e0fd-8ef4c181d51f"
   },
   "outputs": [],
   "source": [
    "venues_in_Paris.head()"
   ]
  },
  {
   "cell_type": "code",
   "execution_count": null,
   "metadata": {
    "colab": {
     "base_uri": "https://localhost:8080/",
     "height": 34
    },
    "colab_type": "code",
    "executionInfo": {
     "elapsed": 991,
     "status": "ok",
     "timestamp": 1597726740027,
     "user": {
      "displayName": "Thomas George Thomas",
      "photoUrl": "https://lh3.googleusercontent.com/a-/AOh14GhRjmtno5yCmJOUjYiFNGHi_xP5YZBJ1ZpWGKsZ=s64",
      "userId": "09561174857978505545"
     },
     "user_tz": -330
    },
    "id": "aNGGpOxTDj_L",
    "outputId": "95e1feaa-7506-470a-8952-3915ff978ac1"
   },
   "outputs": [],
   "source": [
    "venues_in_Paris.shape"
   ]
  },
  {
   "cell_type": "markdown",
   "metadata": {
    "colab_type": "text",
    "id": "hyTCF2csDzOd"
   },
   "source": [
    "We have managed to collect 1324 venue records for the neighbourhoods in Paris"
   ]
  },
  {
   "cell_type": "markdown",
   "metadata": {
    "colab_type": "text",
    "id": "P8xufZCiEUDx"
   },
   "source": [
    "### Grouping by Venue Categories\n",
    "We need to now see how many Venue Categories are there for further processing"
   ]
  },
  {
   "cell_type": "code",
   "execution_count": null,
   "metadata": {
    "colab": {
     "base_uri": "https://localhost:8080/",
     "height": 637
    },
    "colab_type": "code",
    "executionInfo": {
     "elapsed": 869,
     "status": "ok",
     "timestamp": 1597726742119,
     "user": {
      "displayName": "Thomas George Thomas",
      "photoUrl": "https://lh3.googleusercontent.com/a-/AOh14GhRjmtno5yCmJOUjYiFNGHi_xP5YZBJ1ZpWGKsZ=s64",
      "userId": "09561174857978505545"
     },
     "user_tz": -330
    },
    "id": "vMuX-c62DyF7",
    "outputId": "a0181b2a-7860-422d-877f-0201e7e147ee"
   },
   "outputs": [],
   "source": [
    "venues_in_Paris.groupby('Venue Category').max()"
   ]
  },
  {
   "cell_type": "markdown",
   "metadata": {
    "colab_type": "text",
    "id": "KfP5KlPyEhBk"
   },
   "source": [
    "198 records in Paris. Paris is also multicultural and diverse as London"
   ]
  },
  {
   "cell_type": "markdown",
   "metadata": {
    "colab_type": "text",
    "id": "kIZfnFiaEsEH"
   },
   "source": [
    "### One Hot Encoding \n",
    "We need to Encode our venue categories to get a better result for our clustering"
   ]
  },
  {
   "cell_type": "code",
   "execution_count": null,
   "metadata": {
    "colab": {
     "base_uri": "https://localhost:8080/",
     "height": 490
    },
    "colab_type": "code",
    "executionInfo": {
     "elapsed": 932,
     "status": "ok",
     "timestamp": 1597726764985,
     "user": {
      "displayName": "Thomas George Thomas",
      "photoUrl": "https://lh3.googleusercontent.com/a-/AOh14GhRjmtno5yCmJOUjYiFNGHi_xP5YZBJ1ZpWGKsZ=s64",
      "userId": "09561174857978505545"
     },
     "user_tz": -330
    },
    "id": "bE88_85LEnUm",
    "outputId": "681e4f13-daa3-4d16-d574-53351e185d29"
   },
   "outputs": [],
   "source": [
    "Paris_venue_cat = pd.get_dummies(venues_in_Paris[['Venue Category']], prefix=\"\", prefix_sep=\"\")\n",
    "Paris_venue_cat"
   ]
  },
  {
   "cell_type": "markdown",
   "metadata": {
    "colab_type": "text",
    "id": "XC06l9cyE7dj"
   },
   "source": [
    "Adding Neighbourhoods to our Data"
   ]
  },
  {
   "cell_type": "code",
   "execution_count": null,
   "metadata": {
    "colab": {
     "base_uri": "https://localhost:8080/",
     "height": 389
    },
    "colab_type": "code",
    "executionInfo": {
     "elapsed": 918,
     "status": "ok",
     "timestamp": 1597726774980,
     "user": {
      "displayName": "Thomas George Thomas",
      "photoUrl": "https://lh3.googleusercontent.com/a-/AOh14GhRjmtno5yCmJOUjYiFNGHi_xP5YZBJ1ZpWGKsZ=s64",
      "userId": "09561174857978505545"
     },
     "user_tz": -330
    },
    "id": "gtSYDVa_E91G",
    "outputId": "a0fd7c0a-1ce4-429e-e4d8-a07b5c9de73d"
   },
   "outputs": [],
   "source": [
    "Paris_venue_cat['Neighbourhood'] = venues_in_Paris['Neighbourhood'] \n",
    "\n",
    "# moving neighborhood column to the first column\n",
    "fixed_columns = [Paris_venue_cat.columns[-1]] + list(Paris_venue_cat.columns[:-1])\n",
    "Paris_venue_cat = Paris_venue_cat[fixed_columns]\n",
    "\n",
    "Paris_venue_cat.head()"
   ]
  },
  {
   "cell_type": "markdown",
   "metadata": {
    "colab_type": "text",
    "id": "QhP2Xy-HFrs2"
   },
   "source": [
    "### Venue categories mean value\n",
    "We will group the Neighbourhoods and calculate the mean venue categories value in each Neighbourhood"
   ]
  },
  {
   "cell_type": "code",
   "execution_count": null,
   "metadata": {
    "colab": {
     "base_uri": "https://localhost:8080/",
     "height": 389
    },
    "colab_type": "code",
    "executionInfo": {
     "elapsed": 880,
     "status": "ok",
     "timestamp": 1597726779458,
     "user": {
      "displayName": "Thomas George Thomas",
      "photoUrl": "https://lh3.googleusercontent.com/a-/AOh14GhRjmtno5yCmJOUjYiFNGHi_xP5YZBJ1ZpWGKsZ=s64",
      "userId": "09561174857978505545"
     },
     "user_tz": -330
    },
    "id": "JLHMEmlAFsXs",
    "outputId": "91d26eea-2849-41ce-e99e-1c32a44e9274"
   },
   "outputs": [],
   "source": [
    "Paris_grouped = Paris_venue_cat.groupby('Neighbourhood').mean().reset_index()\n",
    "Paris_grouped.head()"
   ]
  },
  {
   "cell_type": "markdown",
   "metadata": {
    "colab_type": "text",
    "id": "bp-q6BtwX2a5"
   },
   "source": [
    "### Top venue categories\n",
    " \n",
    "Reusing our previously defined function to get the top venue categories in the neighbourhoods of Paris."
   ]
  },
  {
   "cell_type": "code",
   "execution_count": null,
   "metadata": {
    "colab": {
     "base_uri": "https://localhost:8080/",
     "height": 340
    },
    "colab_type": "code",
    "executionInfo": {
     "elapsed": 939,
     "status": "ok",
     "timestamp": 1597726799805,
     "user": {
      "displayName": "Thomas George Thomas",
      "photoUrl": "https://lh3.googleusercontent.com/a-/AOh14GhRjmtno5yCmJOUjYiFNGHi_xP5YZBJ1ZpWGKsZ=s64",
      "userId": "09561174857978505545"
     },
     "user_tz": -330
    },
    "id": "jR1vSaP-X3A5",
    "outputId": "e888d0a6-c132-45ae-90c5-7f84e8cec711"
   },
   "outputs": [],
   "source": [
    "# create a new dataframe for Paris\n",
    "neighborhoods_venues_sorted_paris = pd.DataFrame(columns=columns)\n",
    "neighborhoods_venues_sorted_paris['Neighbourhood'] = Paris_grouped['Neighbourhood']\n",
    "\n",
    "for ind in np.arange(Paris_grouped.shape[0]):\n",
    "    neighborhoods_venues_sorted_paris.iloc[ind, 1:] = return_most_common_venues(Paris_grouped.iloc[ind, :], num_top_venues)\n",
    "\n",
    "neighborhoods_venues_sorted_paris.head()"
   ]
  },
  {
   "cell_type": "markdown",
   "metadata": {
    "colab_type": "text",
    "id": "jyVdesVXY4SR"
   },
   "source": [
    "## Model Building"
   ]
  },
  {
   "cell_type": "markdown",
   "metadata": {
    "colab_type": "text",
    "id": "KnRDVi5_Y-WL"
   },
   "source": [
    "### K Means\n",
    "Let's cluster the city of Paris to roughly 5 to make it easier to analyze. \n",
    "\n",
    "We use the K Means clustering technique to do so."
   ]
  },
  {
   "cell_type": "code",
   "execution_count": null,
   "metadata": {
    "colab": {
     "base_uri": "https://localhost:8080/",
     "height": 68
    },
    "colab_type": "code",
    "executionInfo": {
     "elapsed": 897,
     "status": "ok",
     "timestamp": 1597726827299,
     "user": {
      "displayName": "Thomas George Thomas",
      "photoUrl": "https://lh3.googleusercontent.com/a-/AOh14GhRjmtno5yCmJOUjYiFNGHi_xP5YZBJ1ZpWGKsZ=s64",
      "userId": "09561174857978505545"
     },
     "user_tz": -330
    },
    "id": "4IXU10otY6IU",
    "outputId": "ddf67d0b-49d9-430d-9d5e-b7326a701d4c"
   },
   "outputs": [],
   "source": [
    "# set number of clusters\n",
    "k_num_clusters = 5\n",
    "\n",
    "Paris_grouped_clustering = Paris_grouped.drop('Neighbourhood', 1)\n",
    "\n",
    "# run k-means clustering\n",
    "kmeans_Paris = KMeans(n_clusters=k_num_clusters, random_state=0).fit(Paris_grouped_clustering)\n",
    "kmeans_Paris"
   ]
  },
  {
   "cell_type": "markdown",
   "metadata": {
    "colab_type": "text",
    "id": "ZG5GcHuBaAa9"
   },
   "source": [
    "### Labelling Clustered Data"
   ]
  },
  {
   "cell_type": "code",
   "execution_count": null,
   "metadata": {
    "colab": {
     "base_uri": "https://localhost:8080/",
     "height": 34
    },
    "colab_type": "code",
    "executionInfo": {
     "elapsed": 984,
     "status": "ok",
     "timestamp": 1597726831558,
     "user": {
      "displayName": "Thomas George Thomas",
      "photoUrl": "https://lh3.googleusercontent.com/a-/AOh14GhRjmtno5yCmJOUjYiFNGHi_xP5YZBJ1ZpWGKsZ=s64",
      "userId": "09561174857978505545"
     },
     "user_tz": -330
    },
    "id": "k0kW-YGSaHvo",
    "outputId": "a31ad77e-b140-4ab6-a1c5-45747457f3f8"
   },
   "outputs": [],
   "source": [
    "kmeans_Paris.labels_"
   ]
  },
  {
   "cell_type": "markdown",
   "metadata": {
    "colab_type": "text",
    "id": "5aZqGx8WaHvt"
   },
   "source": [
    "So our model has labeled the city, we insert it in our data."
   ]
  },
  {
   "cell_type": "code",
   "execution_count": null,
   "metadata": {
    "colab": {},
    "colab_type": "code",
    "executionInfo": {
     "elapsed": 877,
     "status": "ok",
     "timestamp": 1597726837153,
     "user": {
      "displayName": "Thomas George Thomas",
      "photoUrl": "https://lh3.googleusercontent.com/a-/AOh14GhRjmtno5yCmJOUjYiFNGHi_xP5YZBJ1ZpWGKsZ=s64",
      "userId": "09561174857978505545"
     },
     "user_tz": -330
    },
    "id": "bzYw2Pt7aHvu"
   },
   "outputs": [],
   "source": [
    "neighborhoods_venues_sorted_paris.insert(0, 'Cluster Labels', kmeans_Paris.labels_ +1)"
   ]
  },
  {
   "cell_type": "markdown",
   "metadata": {
    "colab_type": "text",
    "id": "F4G93-NJaHvw"
   },
   "source": [
    "Join *paris_combined_data* with our neighbourhood venues sorted to add latitude & longitude for each of the neighborhood to prepare it for plotting"
   ]
  },
  {
   "cell_type": "code",
   "execution_count": null,
   "metadata": {
    "colab": {
     "base_uri": "https://localhost:8080/",
     "height": 377
    },
    "colab_type": "code",
    "executionInfo": {
     "elapsed": 954,
     "status": "ok",
     "timestamp": 1597726840062,
     "user": {
      "displayName": "Thomas George Thomas",
      "photoUrl": "https://lh3.googleusercontent.com/a-/AOh14GhRjmtno5yCmJOUjYiFNGHi_xP5YZBJ1ZpWGKsZ=s64",
      "userId": "09561174857978505545"
     },
     "user_tz": -330
    },
    "id": "oMQgvcU3aY78",
    "outputId": "a094149a-7e95-4ff8-8af0-9e0e29e663ba"
   },
   "outputs": [],
   "source": [
    "paris_data = paris_combined_data\n",
    "\n",
    "paris_data = paris_data.join(neighborhoods_venues_sorted_paris.set_index('Neighbourhood'), on='nom_comm')\n",
    "\n",
    "paris_data.head()"
   ]
  },
  {
   "cell_type": "markdown",
   "metadata": {
    "colab_type": "text",
    "id": "KwcvOzW5aY8A"
   },
   "source": [
    "\n",
    "Drop all the NaN values to prevent data skew"
   ]
  },
  {
   "cell_type": "code",
   "execution_count": null,
   "metadata": {
    "colab": {},
    "colab_type": "code",
    "executionInfo": {
     "elapsed": 918,
     "status": "ok",
     "timestamp": 1597726855575,
     "user": {
      "displayName": "Thomas George Thomas",
      "photoUrl": "https://lh3.googleusercontent.com/a-/AOh14GhRjmtno5yCmJOUjYiFNGHi_xP5YZBJ1ZpWGKsZ=s64",
      "userId": "09561174857978505545"
     },
     "user_tz": -330
    },
    "id": "dVuZPwfPaY8B"
   },
   "outputs": [],
   "source": [
    "paris_data_nonan = paris_data.dropna(subset=['Cluster Labels'])"
   ]
  },
  {
   "cell_type": "markdown",
   "metadata": {
    "colab_type": "text",
    "id": "1RyvVcyfgYtw"
   },
   "source": [
    "### Visualizing the clustered neighbourhood\n",
    "Let's plot the clusters"
   ]
  },
  {
   "cell_type": "code",
   "execution_count": null,
   "metadata": {
    "colab": {
     "base_uri": "https://localhost:8080/",
     "height": 743
    },
    "colab_type": "code",
    "executionInfo": {
     "elapsed": 952,
     "status": "ok",
     "timestamp": 1597726860234,
     "user": {
      "displayName": "Thomas George Thomas",
      "photoUrl": "https://lh3.googleusercontent.com/a-/AOh14GhRjmtno5yCmJOUjYiFNGHi_xP5YZBJ1ZpWGKsZ=s64",
      "userId": "09561174857978505545"
     },
     "user_tz": -330
    },
    "id": "fDM7aqGIgYt3",
    "outputId": "78766b27-4124-42a5-da9f-0b37a73309eb"
   },
   "outputs": [],
   "source": [
    "map_clusters_paris = folium.Map(location=[paris_lat_coords, paris_lng_coords], zoom_start=12)\n",
    "\n",
    "# set color scheme for the clusters\n",
    "x = np.arange(k_num_clusters)\n",
    "ys = [i + x + (i*x)**2 for i in range(k_num_clusters)]\n",
    "colors_array = cm.rainbow(np.linspace(0, 1, len(ys)))\n",
    "rainbow = [colors.rgb2hex(i) for i in colors_array]\n",
    "\n",
    "# add markers to the map\n",
    "markers_colors = []\n",
    "for lat, lon, poi, cluster in zip(paris_data_nonan['Latitude'], paris_data_nonan['Longitude'], paris_data_nonan['nom_comm'], paris_data_nonan['Cluster Labels']):\n",
    "    label = folium.Popup('Cluster ' + str(int(cluster) +1) + ' ' + str(poi) , parse_html=True)\n",
    "    folium.CircleMarker(\n",
    "        [lat, lon],\n",
    "        radius=5,\n",
    "        popup=label,\n",
    "        color=rainbow[int(cluster-1)],\n",
    "        fill=True,\n",
    "        fill_color=rainbow[int(cluster-1)],\n",
    "        fill_opacity=0.8\n",
    "        ).add_to(map_clusters_paris)\n",
    "        \n",
    "map_clusters_paris"
   ]
  },
  {
   "cell_type": "markdown",
   "metadata": {
    "colab_type": "text",
    "id": "8vthO-k_gYuA"
   },
   "source": [
    "## Examining our Clusters"
   ]
  },
  {
   "cell_type": "markdown",
   "metadata": {
    "colab_type": "text",
    "id": "rru8ue2QgYuB"
   },
   "source": [
    "Cluster 1"
   ]
  },
  {
   "cell_type": "code",
   "execution_count": null,
   "metadata": {
    "colab": {
     "base_uri": "https://localhost:8080/",
     "height": 131
    },
    "colab_type": "code",
    "executionInfo": {
     "elapsed": 927,
     "status": "ok",
     "timestamp": 1597726871321,
     "user": {
      "displayName": "Thomas George Thomas",
      "photoUrl": "https://lh3.googleusercontent.com/a-/AOh14GhRjmtno5yCmJOUjYiFNGHi_xP5YZBJ1ZpWGKsZ=s64",
      "userId": "09561174857978505545"
     },
     "user_tz": -330
    },
    "id": "_FQbgNnzgYuB",
    "outputId": "47780e92-880c-4851-e7da-b392526d2fbd"
   },
   "outputs": [],
   "source": [
    "paris_data_nonan.loc[paris_data_nonan['Cluster Labels'] == 1, paris_data_nonan.columns[[1] + list(range(5, paris_data_nonan.shape[1]))]]"
   ]
  },
  {
   "cell_type": "markdown",
   "metadata": {
    "colab_type": "text",
    "id": "wK0AEpe6gYuE"
   },
   "source": [
    "Cluster 2"
   ]
  },
  {
   "cell_type": "code",
   "execution_count": null,
   "metadata": {
    "colab": {
     "base_uri": "https://localhost:8080/",
     "height": 131
    },
    "colab_type": "code",
    "executionInfo": {
     "elapsed": 897,
     "status": "ok",
     "timestamp": 1597726876399,
     "user": {
      "displayName": "Thomas George Thomas",
      "photoUrl": "https://lh3.googleusercontent.com/a-/AOh14GhRjmtno5yCmJOUjYiFNGHi_xP5YZBJ1ZpWGKsZ=s64",
      "userId": "09561174857978505545"
     },
     "user_tz": -330
    },
    "id": "IZQ09Fg7gYuE",
    "outputId": "3652e19c-01c2-4e43-e26b-7d4c2313cb22"
   },
   "outputs": [],
   "source": [
    "paris_data_nonan.loc[paris_data_nonan['Cluster Labels'] == 2, paris_data_nonan.columns[[1] + list(range(5, paris_data_nonan.shape[1]))]]"
   ]
  },
  {
   "cell_type": "markdown",
   "metadata": {
    "colab_type": "text",
    "id": "tcDCfZ6egYuH"
   },
   "source": [
    "Cluster 3"
   ]
  },
  {
   "cell_type": "code",
   "execution_count": null,
   "metadata": {
    "colab": {
     "base_uri": "https://localhost:8080/",
     "height": 292
    },
    "colab_type": "code",
    "executionInfo": {
     "elapsed": 761,
     "status": "ok",
     "timestamp": 1597726883664,
     "user": {
      "displayName": "Thomas George Thomas",
      "photoUrl": "https://lh3.googleusercontent.com/a-/AOh14GhRjmtno5yCmJOUjYiFNGHi_xP5YZBJ1ZpWGKsZ=s64",
      "userId": "09561174857978505545"
     },
     "user_tz": -330
    },
    "id": "Ok4n93uAgYuI",
    "outputId": "5097e4fe-5ade-4f7d-f394-c3c07ff2f751"
   },
   "outputs": [],
   "source": [
    "paris_data_nonan.loc[paris_data_nonan['Cluster Labels'] == 3, paris_data_nonan.columns[[1] + list(range(5, paris_data_nonan.shape[1]))]]"
   ]
  },
  {
   "cell_type": "markdown",
   "metadata": {
    "colab_type": "text",
    "id": "VpcPLpyKgYuM"
   },
   "source": [
    "Cluster 4"
   ]
  },
  {
   "cell_type": "code",
   "execution_count": null,
   "metadata": {
    "colab": {
     "base_uri": "https://localhost:8080/",
     "height": 131
    },
    "colab_type": "code",
    "executionInfo": {
     "elapsed": 1154,
     "status": "ok",
     "timestamp": 1597726889262,
     "user": {
      "displayName": "Thomas George Thomas",
      "photoUrl": "https://lh3.googleusercontent.com/a-/AOh14GhRjmtno5yCmJOUjYiFNGHi_xP5YZBJ1ZpWGKsZ=s64",
      "userId": "09561174857978505545"
     },
     "user_tz": -330
    },
    "id": "oviLZ6M-gYuN",
    "outputId": "c3f5440a-87af-4d6b-c1ec-bf30020d9b69"
   },
   "outputs": [],
   "source": [
    "paris_data_nonan.loc[paris_data_nonan['Cluster Labels'] == 4, paris_data_nonan.columns[[1] + list(range(5, paris_data_nonan.shape[1]))]]"
   ]
  },
  {
   "cell_type": "markdown",
   "metadata": {
    "colab_type": "text",
    "id": "FzEoUXXYgYuQ"
   },
   "source": [
    "Cluster 5"
   ]
  },
  {
   "cell_type": "code",
   "execution_count": null,
   "metadata": {
    "colab": {
     "base_uri": "https://localhost:8080/",
     "height": 724
    },
    "colab_type": "code",
    "executionInfo": {
     "elapsed": 1219,
     "status": "ok",
     "timestamp": 1597726894179,
     "user": {
      "displayName": "Thomas George Thomas",
      "photoUrl": "https://lh3.googleusercontent.com/a-/AOh14GhRjmtno5yCmJOUjYiFNGHi_xP5YZBJ1ZpWGKsZ=s64",
      "userId": "09561174857978505545"
     },
     "user_tz": -330
    },
    "id": "AeEJAvlCgYuQ",
    "outputId": "749f7c4b-18f0-4e51-f9a0-3b7daf3c4b78"
   },
   "outputs": [],
   "source": [
    "paris_data_nonan.loc[paris_data_nonan['Cluster Labels'] == 5, paris_data_nonan.columns[[1] + list(range(5, paris_data_nonan.shape[1]))]]"
   ]
  },
  {
   "cell_type": "markdown",
   "metadata": {
    "colab_type": "text",
    "id": "EthrlAV7loTH"
   },
   "source": [
    "\n",
    "\n",
    "---\n",
    "\n",
    "\n"
   ]
  },
  {
   "cell_type": "markdown",
   "metadata": {
    "colab_type": "text",
    "id": "BrHlnq6_EVSO"
   },
   "source": [
    "# Results and Discussion\n",
    "\n",
    "The neighbourhoods of London are very mulitcultural. There are a lot of different cusines including Indian, Italian, Turkish and Chinese. London seems to take a step further in this direction by having a lot of Restaurants, bars, juice bars, coffee shops, Fish and Chips shop and Breakfast spots. It has a lot of shopping options too with that of the Flea markets, flower shops, fish markets, Fishing stores, clothing stores. The main modes of transport seem to be Buses and trains. For leisure, the neighbourhoods are set up to have lots of parks, golf courses, zoo, gyms and Historic sites.\n",
    "\n",
    "Overall, the city of London offers a multicultural, diverse and certainly an entertaining experience.\n",
    "\n",
    "Paris is relatively small in size geographically. It has a wide variety of cusines and eateries including French, Thai, Cambodian, Asian, Chinese etc. There are a lot of hangout spots including many Restaurants and Bars. Paris has a lot of Bistro's. Different means of public transport in Paris which includes buses, bikes, boats or ferries. For leisure and sight seeing, there are a lot of Plazas, Trails, Parks, Historic sites, clothing shops, Art galleries and Museums. Overall, Paris seems like the relaxing vacation spot with a mix of lakes, historic spots and a wide variety of cusines to try out.\n"
   ]
  },
  {
   "cell_type": "markdown",
   "metadata": {
    "colab_type": "text",
    "id": "NuztDbPeH2AN"
   },
   "source": [
    "# Conclusion\n",
    "\n",
    "The purpose of this project was to explore the cities of London and Paris and see how attractive it is to potential tourists and migrants. We explored both the cities based on their postal codes and then extrapolated the common venues present in each of the neighbourhoods finally concluding with clustering similar neighbourhoods together.\n",
    "\n",
    "We could see that each of the neighbourhoods in both the cities have a wide variety of experiences to offer which is unique in it's own way. The cultural diversity is quite evident which also gives the feeling of a sense of inclusion.\n",
    "\n",
    "Both Paris and London seem to offer a vacation stay or a romantic gateaway with a lot of places to explore, beautiful landscapes and a wide variety of culture.Overall, it's upto the stakeholders to decide which experience they would prefer more and which would more to their liking."
   ]
  }
 ],
 "metadata": {
  "colab": {
   "authorship_tag": "ABX9TyMBMaFgENmlg1wAYlx6zgev",
   "collapsed_sections": [],
   "name": "Tale of Two Cities.ipynb",
   "provenance": [],
   "toc_visible": true
  },
  "kernelspec": {
   "display_name": "Python 3",
   "language": "python",
   "name": "python3"
  },
  "language_info": {
   "codemirror_mode": {
    "name": "ipython",
    "version": 3
   },
   "file_extension": ".py",
   "mimetype": "text/x-python",
   "name": "python",
   "nbconvert_exporter": "python",
   "pygments_lexer": "ipython3",
   "version": "3.7.3"
  }
 },
 "nbformat": 4,
 "nbformat_minor": 1
}
